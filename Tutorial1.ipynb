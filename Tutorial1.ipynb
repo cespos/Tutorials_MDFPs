{
 "cells": [
  {
   "cell_type": "markdown",
   "metadata": {},
   "source": [
    "# Tutorial 1: From Ligand Preparation to MD Simulations"
   ]
  },
  {
   "cell_type": "markdown",
   "metadata": {},
   "source": [
    "## Outline\n",
    "1. Useful Information Before Starting <br>\n",
    "    1.1. Input files <br>\n",
    "    1.2. Required Softwares and Python Libraries<br>\n",
    "    1.3. Scripts Usage<br>\n",
    "    1.4.  How to Run the Pipeline for a Different Set of Molecules\n",
    "2. Make a Copy of the Original Folder<br>\n",
    "3. Generate Compound 3D-Structures<br>\n",
    "    3.1. Generate 3D-Structures from SDF Files<br>\n",
    "    3.2. Generate 3D-Structures from SMILES<br>\n",
    "4. Parametrization of the Compounds<br>\n",
    "5. Build a Water Box Around the Compound<br>\n",
    "6. MD Simulations<br>\n",
    "    6.1. Simulation Details<br>\n",
    "    6.2. Run Equilibration, Production, and Post-Processing"
   ]
  },
  {
   "cell_type": "markdown",
   "metadata": {},
   "source": [
    "## 1. Useful Information Before Starting "
   ]
  },
  {
   "cell_type": "markdown",
   "metadata": {},
   "source": [
    "### 1.1.   Input Files\n",
    "Only one file is required to run this tutorial for a different set of molecules, which is either a sdf file containing the 2D-structures or a smi file containing a list of SMILES."
   ]
  },
  {
   "cell_type": "markdown",
   "metadata": {},
   "source": [
    "### 1.2. Required Softwares and Python Libraries\n",
    "\n",
    "##### Softwares:\n",
    "python3 <br>\n",
    "openbabel <br>\n",
    "ChemAxon <br>\n",
    "GROMACS<br>\n",
    "Ambertools <br>\n",
    "\n",
    "##### Python Liraries:\n",
    "RDKit <br>\n",
    "sys<br>\n",
    "subprocess<br>\n",
    "argparse <br>\n",
    "pandas <br>\n",
    "numpy <br>\n",
    "glob <br>\n",
    "parmed <br>\n",
    "mdfptools (Download from https://github.com/rinikerlab/mdfptools)<br>\n"
   ]
  },
  {
   "cell_type": "markdown",
   "metadata": {},
   "source": [
    "### 1.3. Scripts Usage\n",
    "Each script contains as header a DESCRIPTION section describing the purpose and the functions used. <br>\n",
    "To check the DESCRIPTION, type \n",
    "\n",
    "        less script.xx \n",
    "\n",
    "##### Print out usage, brief description and information regarding the python input files: <br>\n",
    "\n",
    "        python3 script.py -h\n",
    "\n",
    "For example, \n",
    "\n",
    "        python3 clean_2d_structures.py -h  \n",
    "    \n",
    "gives as output:\n",
    "\n",
    "        usage: clean_2d_structures.py [-h] -isdf input_file.sdf\n",
    "\n",
    "        Remove Salts from SDF structure files. Output = filename_clean.sdf\n",
    "\n",
    "        optional arguments:\n",
    "          -h, --help                show this help message and exit\n",
    "          -isdf input_file.sdf      input SDF file\n"
   ]
  },
  {
   "cell_type": "markdown",
   "metadata": {},
   "source": [
    "##### Print out usage of bash scripts\n",
    "\n",
    "        ./script.sh -h\n",
    "\n",
    "For example,\n",
    "\n",
    "        ./run_md_water_4tutorial1.sh -h\n",
    "        \n",
    "gives as output:\n",
    "\n",
    "        Usage: ./run_md_water_4tutorial1.sh [-w working_folder] [-i inputs_folder]\n",
    "        Options:\n",
    "                -w   working_folder           directory containing topology .top and structure .gro files \n",
    "                -i   inputs_folder            directory containing the input .mdp files for gromacs\n",
    "                -h                            Show this message"
   ]
  },
  {
   "cell_type": "markdown",
   "metadata": {},
   "source": [
    "## 2. Make a Copy of the Original Folder"
   ]
  },
  {
   "cell_type": "raw",
   "metadata": {},
   "source": [
    "cp -r ex1_lig_preparation ex1_lig_preparation_Copy"
   ]
  },
  {
   "cell_type": "markdown",
   "metadata": {},
   "source": [
    "Enter the example folder"
   ]
  },
  {
   "cell_type": "raw",
   "metadata": {},
   "source": [
    "cd ex1_lig_preparation_Copy"
   ]
  },
  {
   "cell_type": "markdown",
   "metadata": {},
   "source": [
    "## 3. Generate Compound 3D-Structures\n",
    "\n",
    "The first step is the generation of 3D-structures, either from a SDF file or from a SMI file containing a list of SMILES.\n",
    "\n",
    "- If a SDF file is used and if the 2D-structures contain also salt, use the clean_2d_structures.py script to remove the salt. Afterwards generate 3D-structures using the script gen_3d_structure_from_SDF.py.\n",
    "<br>\n",
    "- If SMILES are used as input, use gen_3d_structure_from_SMILES.py.\n",
    "\n"
   ]
  },
  {
   "cell_type": "markdown",
   "metadata": {},
   "source": [
    "### 3.1. Generate 3D-Structures from SDF Files\n",
    "\n",
    "Clean 2D-structures and generate 3D-structures"
   ]
  },
  {
   "cell_type": "raw",
   "metadata": {},
   "source": [
    "python3 clean_2d_structures.py -isdf ex1.sdf\n",
    "python3 gen_3d_structure_from_SDF.py -isdf ex1_clean.sdf"
   ]
  },
  {
   "cell_type": "markdown",
   "metadata": {},
   "source": [
    "Output PDB files are saved in the current directory."
   ]
  },
  {
   "cell_type": "markdown",
   "metadata": {},
   "source": [
    "### 3.2. Generate 3D-Structures from SMILES"
   ]
  },
  {
   "cell_type": "markdown",
   "metadata": {},
   "source": [
    "Print out Usage:"
   ]
  },
  {
   "cell_type": "raw",
   "metadata": {},
   "source": [
    "python3 gen_3d_structure_from_SMILES.py -h"
   ]
  },
  {
   "cell_type": "markdown",
   "metadata": {},
   "source": [
    "\n",
    "    usage: gen_3d_structure_from_SMILES.py [-h] -ismi input_file.smi [-sep SEP]\n",
    "\n",
    "    Generate 3D-structures at pH = 7 from a SMILES file. One output file _pH7.pdb\n",
    "    for each SMILES in the input .smi file\n",
    "\n",
    "    optional arguments:\n",
    "      -h, --help            show this help message and exit\n",
    "      -ismi input_file.smi  Input file containing a list of SMILES. It must\n",
    "                            contain a \"SMILES\" column. Columns \"CMPD_ID\" and\n",
    "                            \"is_sub\" are optional. The \"CMPD_ID\" column contains\n",
    "                            compound names while the \"is_sub\" column contains the\n",
    "                            classification labels. If the \"CMPD_ID\" column is\n",
    "                            missing, then compounds will be named as mol_N. If the\n",
    "                            \"is_sub\" column is present then the pdb output files\n",
    "                            will be saved into two directories, \"substrates\" and\n",
    "                            \"nonsubstrates\", instead of the current directory\n",
    "      -sep SEP              column separator. Default = \" \"\n"
   ]
  },
  {
   "cell_type": "raw",
   "metadata": {},
   "source": [
    "python3 gen_3d_structure_from_SMILES.py -ismi ex1.smi -sep \";\""
   ]
  },
  {
   "cell_type": "markdown",
   "metadata": {},
   "source": [
    "Output PDB files are written in the directories \"substrates\" and nonsubstrates, according to the classification label specified in the input file. See the usage above."
   ]
  },
  {
   "cell_type": "markdown",
   "metadata": {},
   "source": [
    " ## 4. Parametrization of the Compounds\n",
    " \n",
    " #### Generate GAFF Parameters using AmberTools"
   ]
  },
  {
   "cell_type": "markdown",
   "metadata": {},
   "source": [
    "Copy the required input files in the current directory:"
   ]
  },
  {
   "cell_type": "raw",
   "metadata": {},
   "source": [
    "cp ./inputs_gen_params/* ."
   ]
  },
  {
   "cell_type": "markdown",
   "metadata": {},
   "source": [
    "The parametrization consists of three steps:\n",
    "\n",
    "**i. For every compound (every pdb file), AM1BCC partial charges are generated using antechamber from AmberTools18.** <br> The formal charge is calculated using ChemAxon tools while GAFF parameters are extracted using parmchk2.<br>\n",
    "Topology and coordinates files are generated using the AmberTools18 program tleap.<br>\n",
    "\n",
    "**Inputs:** PDB files of the compounds generated in the previpus step<br>\n",
    "**Outputs from antechamber:** FRCMOD and MOL2 files<br>\n",
    "**Outputs from tleap:** PRMTOP and INPCRD files<br>\n",
    "\n",
    "**IMPORTANT:** deactivate anaconda enviroments before running the following script.\n"
   ]
  },
  {
   "cell_type": "raw",
   "metadata": {},
   "source": [
    "./calc_bcc_charges.sh"
   ]
  },
  {
   "cell_type": "markdown",
   "metadata": {},
   "source": [
    "**ii. Round the formal charge to an integer number**\n",
    "\n",
    "Because of numerical errors, the partial charges obtained with antechamber do not sum up to an integer. Therefore, the excess charge is redistributed on each of the atoms. \n",
    "\n",
    "**Outputs:** netcharge.mol2 files (with updated partial charges)"
   ]
  },
  {
   "cell_type": "raw",
   "metadata": {},
   "source": [
    "python rescale_charges.py"
   ]
  },
  {
   "cell_type": "markdown",
   "metadata": {},
   "source": [
    "***iii. Generate the compound topology and coordinates files***\n",
    "\n",
    "Rewrite topology and coordinates files using the AmberTools18 program tleap.<br>\n",
    "**IMPORTANT:** deactivate anaconda enviroments before running the following script.\n",
    "\n",
    "Execute from terminal:"
   ]
  },
  {
   "cell_type": "raw",
   "metadata": {},
   "source": [
    "for mol in *netcharge.mol2\n",
    "  do\n",
    "  name=`echo $mol | cut -d . -f 1`\n",
    "  parmchk -i \"$name\".mol2 -f mol2 -o \"$name\".frcmod\n",
    "done\n",
    "\n",
    "rm tleap_lig_tmp.in tleap.log\n"
   ]
  },
  {
   "cell_type": "markdown",
   "metadata": {},
   "source": [
    "## 5. Build a Water Box Around the Compound"
   ]
  },
  {
   "cell_type": "markdown",
   "metadata": {},
   "source": [
    "To solvate the compounds, a cubic TIP3P water box is generated using tleap such that the minimum distance between the compound and the wall is 1 nm.<br> \n",
    "\n",
    "**Outputs**: PRMTOP and INPCRD files are saved in the folder WAT_box\n",
    "\n",
    "**IMPORTANT:** deactivate anaconda enviroments before running the following script.\n"
   ]
  },
  {
   "cell_type": "raw",
   "metadata": {},
   "source": [
    "./prepare_water_box.sh"
   ]
  },
  {
   "cell_type": "markdown",
   "metadata": {},
   "source": [
    "Convert topology and coordinate files from PRMTOP and INPCRD formats to TOP and GRO formats (required for Gromacs): "
   ]
  },
  {
   "cell_type": "raw",
   "metadata": {},
   "source": [
    "cd WAT_box\n",
    "cp ../amber2gromacs.py .\n",
    "python3 amber2gromacs.py\n",
    "rm amber2gromacs.py *prmtop *inpcrd\n",
    "cd ../"
   ]
  },
  {
   "cell_type": "markdown",
   "metadata": {},
   "source": [
    "Output structure (.gro) and topology (.top) files are written in the WAT_box folder. "
   ]
  },
  {
   "cell_type": "markdown",
   "metadata": {},
   "source": [
    "#### Remove all the files that are not needed in the next steps"
   ]
  },
  {
   "cell_type": "raw",
   "metadata": {},
   "source": [
    "rm *lib calc_bcc_charges.sh  prepare_water_box.sh  rescale_charges.py  round_charges.sh  tleap.in  tleap_lig.in  *pH7.mol2  *pH7.frcmod  *pH7.prmtop  *pH7.inpcrd  "
   ]
  },
  {
   "cell_type": "markdown",
   "metadata": {},
   "source": [
    "## 6. MD Simulations\n",
    "\n",
    "### 6.1. Simulation Details"
   ]
  },
  {
   "cell_type": "markdown",
   "metadata": {},
   "source": [
    "All simulations are performed using GROMACS. Download the latest version of GROMACS from http://manual.gromacs.org/documentation/\n",
    "\n",
    " \n",
    "#### Simulation Details\n",
    "The systems are minimized using the steepest descent algorithm for a maximum of 50000 steps\n",
    "with a convergence criterion of 1000 $kJ mol^{−1} nm^{−1}$. <br>A two-steps NPT equilibration is carried out: firstly, a 50 ps equilibration is run using the velocity-rescaling thermostat (coupling constant of 0.1 ps) and the Berendsen barostat (coupling constant of 2.0 ps); then, an additional 50 ps equilibration is run using the more accurate Nose-Hover thermostat (coupling constant of 0.5 ps) and Parrinello-Rahman barostat (coupling constant of 5 ps). The equilibration is followed by a 5 ns production in the NVT ensemble. The temperature is controlled using the Nose-Hoover chain thermostat with a coupling constant of 0.5 ps. In all smulations, the temperature is kept at 298.15K. Bonds are constrained using LINCS. Periodic boundary conditions (PBC) are applied. Both Lennard-Jones and electrostatic interactions are truncated at a distance of 10 Å, and long range electrostatic interactions are treated using the particle-mesh Ewald (PME) summation method. The Newton's equation of motion is integrated using the Verlet scheme with a time step of 2 fs. Snapshots are saved every 500 steps (1 ps). This results in a total of 5000 snapshots per compound.\n",
    "\n",
    "\n",
    "#### Input files that are required for equilibration and production\n",
    "The input files that are used to carry out the simulations are stored in the folder \"inputs_md_gromacs\". These are:\n",
    "\n",
    "    1. minim_wat.mdp     To minimize the system\n",
    "    2. npt_wat_1x.mdp    To run the first 50 ps NPT equilibration with velocity-rescaling thermostat \n",
    "                         and Berendsen barostat\n",
    "    3. npt_wat_2x.mdp    To run the second 50 ps NPT equilibration with Nose-Hover thermostat \n",
    "                         and Parrinello-Rahman barostat \n",
    "    4. nvt_wat_3x.mdp    To run the 5 ns NVT production. The temperature is kept at 298.15K using \n",
    "                         the Nose-Hoover chain thermostat\n",
    "                         \n",
    "    x=a if no counter-ions are present in the system\n",
    "    x=b if there are counter-ions to neutralize the system\n",
    "    \n",
    "    \n",
    "#### Post-Processing\n",
    "The ligand is centered in the box using gmx trjcov. Afterwards, the energy terms (LJ and electrostatic) are re-calculated using Reaction field (RF) instead of PME, which was employed for production. While PME is compatible with the force-field parametrization scheme of AMBER, it does not allow for a direct energy decomposition into solute-solute and solute-solvent terms, which is required for the construction of the MDFPs. Therefore, the energy terms are recomputed with the RF expression based on the trajectory coordinates using the “-rerun” option of the GROMACS mdrun tool (see also the [documentation of Gromacs](http://manual.gromacs.org/documentation/5.1/user-guide/mdrun-features.html)). The RF dielectric permittivity is set to 78.5. For each trajectory snapshots, the energy values are stored in a file named \"nvt3_rf_basename.edr\". The gmx energy tool of Gromacs allows to extract the energy components from the edr energy file. The output \"nvt3_rf_basename.xvg\" file is required to construct the MDFPs. \n",
    "\n",
    "#### Input files that are required for the post-processing step\n",
    "The input file required to recompute the energy terms from the trajectory file is:\n",
    "    \n",
    "    nvt_rf_wat_3x.mdp    To recompute energy terms with the reaction field expression \n",
    "    \n",
    "This mdp files is the same as the one used for production (nvt_wat_3x.mdp) but:\n",
    "\n",
    "    i)    coulombtype = Reaction-Field instead of coulombtype     = PME. \n",
    "    ii)   Related keywords were also modified\n",
    "    iii)  energy groups for which to write the energy components were specified. Added keywords:\n",
    "            energygrps = LIG Water\n",
    "            energygrp-excl   = Water Water #exclude protein-protein interactions. "
   ]
  },
  {
   "cell_type": "markdown",
   "metadata": {},
   "source": [
    "### 6.2. Run Equilibration, Production, and Post-Processing"
   ]
  },
  {
   "cell_type": "markdown",
   "metadata": {},
   "source": [
    "Each of the steps described above can be executed using the script run_md_water_4tutorial1.sh. To check how to use this script, type:"
   ]
  },
  {
   "cell_type": "raw",
   "metadata": {},
   "source": [
    "./run_md_water_4tutorial1.sh -h"
   ]
  },
  {
   "cell_type": "markdown",
   "metadata": {},
   "source": [
    "This gives as output"
   ]
  },
  {
   "cell_type": "markdown",
   "metadata": {},
   "source": [
    "        Usage: ./run_md_water_4tutorial1.sh [-w working_folder] [-i inputs_folder]\n",
    "        Options:\n",
    "                -w   working_folder           directory containing topology .top and structure .gro files \n",
    "                -i   inputs_folder            directory containing the input .mdp files for gromacs\n",
    "                -h                            Show this message"
   ]
  },
  {
   "cell_type": "markdown",
   "metadata": {},
   "source": [
    "For example, to run the simulations of compound CHEMBL1077779, whose structure and topology files are contained in the folder ./nonsubstrates/WAT_box/, type: "
   ]
  },
  {
   "cell_type": "raw",
   "metadata": {},
   "source": [
    "./run_md_water_4tutorial1.sh -w ./nonsubstrates/WAT_box/ -i inputs_md_gromacs/"
   ]
  },
  {
   "cell_type": "markdown",
   "metadata": {},
   "source": [
    "#### IMPORTANT: \n",
    "This step might take a long time. If you want to test the run_md_water_4tutorial1.sh script without waiting too long for the NVT production to finish, modify the nvt_\\*.mdp files contained in the inputs_md_gromacs folder by changing the number of steps (nsteps) from 2500000 (5 ns) to 25000 (50 ps)"
   ]
  },
  {
   "cell_type": "markdown",
   "metadata": {},
   "source": [
    "#### NOTE: \n",
    "On a cluster and with 4 CPU, each simulation takes about 1h. If you need to carry out simulations for 200 compounds \n",
    "and you want to ensure that the simulations finish in 24h, you can parallelize the task by splitting the input .gro and .top files in 10 subdirectories (dir_001 to dir_010) containing 20 compounds each using the following bash lines:"
   ]
  },
  {
   "cell_type": "raw",
   "metadata": {},
   "source": [
    "i=0;\n",
    "for f in `ls *gro *top`;\n",
    "do\n",
    "    d=dir_$(printf %03d $((i/40+1)));\n",
    "    mkdir -p $d;\n",
    "    mv \"$f\" $d;\n",
    "    let i++;\n",
    "done"
   ]
  }
 ],
 "metadata": {
  "kernelspec": {
   "display_name": "Python 3",
   "language": "python",
   "name": "python3"
  },
  "language_info": {
   "codemirror_mode": {
    "name": "ipython",
    "version": 3
   },
   "file_extension": ".py",
   "mimetype": "text/x-python",
   "name": "python",
   "nbconvert_exporter": "python",
   "pygments_lexer": "ipython3",
   "version": "3.6.8"
  }
 },
 "nbformat": 4,
 "nbformat_minor": 2
}
