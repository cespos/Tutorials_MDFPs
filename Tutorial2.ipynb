{
 "cells": [
  {
   "cell_type": "markdown",
   "metadata": {},
   "source": [
    "# Tutorial 2: Construct MDFPs from MD Simulations"
   ]
  },
  {
   "cell_type": "markdown",
   "metadata": {},
   "source": [
    "## Outline \n",
    "\n",
    "0. Useful Information before starting <br>\n",
    "\n",
    "\n",
    "1. Construct MDFPs <br>\n",
    "    1.1 Construct the MDFP for a single compound <br>\n",
    "    1.2 Construct the MDFPs from all the trajectoriy files in a given folder <br>\n",
    "    1.3 Construct MDFPs from python shell <br>\n",
    "    \n",
    "    \n",
    "2. Customize MDFPs <br>\n",
    "    2.1 Customize energy terms <br>\n",
    "    2.2 Add different features <br>\n"
   ]
  },
  {
   "cell_type": "markdown",
   "metadata": {},
   "source": [
    "## 0. Useful Information before starting "
   ]
  },
  {
   "cell_type": "markdown",
   "metadata": {},
   "source": [
    "#### I)   INPUT FILES:\n",
    "MD trajectory (.xtc, .h5, .trr), coordinates file (.gro or .pdb), and file containing energy terms extracted from the trajectories (.xvg or .csv).\n",
    "\n",
    "To compute 2D counts and proeperties, also SDF files or SMILES of the compounds are required. "
   ]
  },
  {
   "cell_type": "markdown",
   "metadata": {},
   "source": [
    "#### II) REQUIRED SOFTWARES AND PYTHON LIBRARIES\n",
    "\n",
    "##### Softwares:\n",
    "python3 <br>\n",
    "\n",
    "##### Python Liraries:\n",
    "RDKit <br>\n",
    "subprocess<br>\n",
    "argparse <br>\n",
    "pandas <br>\n",
    "numpy <br>\n",
    "glob <br>\n",
    "mdtraj <br>\n",
    "pymol <br>\n",
    "os <br>\n",
    "scipy <br>\n",
    "(parmed)\n"
   ]
  },
  {
   "cell_type": "markdown",
   "metadata": {},
   "source": [
    "#### II)   CHECK SCRIPTS USAGE:\n",
    "\n",
    "        python3 script.py -h\n",
    "\n"
   ]
  },
  {
   "cell_type": "markdown",
   "metadata": {},
   "source": [
    "## 1. Construct MDFPs"
   ]
  },
  {
   "cell_type": "markdown",
   "metadata": {},
   "source": [
    "## 1.1 Construct the MDFP for a single compound "
   ]
  },
  {
   "cell_type": "markdown",
   "metadata": {},
   "source": [
    "To compute the MDFP for a single compound, use the script compose_mdfp.py"
   ]
  },
  {
   "cell_type": "markdown",
   "metadata": {},
   "source": [
    "To print out the help message:"
   ]
  },
  {
   "cell_type": "raw",
   "metadata": {},
   "source": [
    "python3 compose_mdfp.py -h"
   ]
  },
  {
   "cell_type": "markdown",
   "metadata": {},
   "source": [
    "This returns:"
   ]
  },
  {
   "cell_type": "markdown",
   "metadata": {},
   "source": [
    "    usage: compose_mdfp.py [-h] [-traj_file traj.xtc] [-coord_file coord.gro]\n",
    "                           [-energy_file energy.xvg] [-sdf_file compound.sdf]\n",
    "                           [-ismi SMILES] [-cmpd_name compound_ID]\n",
    "                           [-output_filename output]\n",
    "                           [-output_folder OUTPUT_FOLDER]\n",
    "\n",
    "    DESCRIPTION: \n",
    "    ---------------- \n",
    "    Compose MDFP from a MD trajectory. \n",
    "    It returns a dataframe (pkl file) containing the MDFP terms and 2D-properties of \n",
    "    the analyzed compound. \n",
    "    To compute MD terms, the arguments needed are: -xtc_file, -gro_file, -top_file, \n",
    "    and -energy_file. \n",
    "    To compute 2D count and properties, specify -sdf_file or -ismi.\n",
    " \n",
    "     ARGUMENTS \n",
    "     ---------------- \n",
    "\n",
    "    optional arguments:\n",
    "      -h, --help            show this help message and exit\n",
    "      -traj_file traj.xtc   Trajectory file (.xtc, .trr, .h5)\n",
    "      -coord_file coord.gro \n",
    "                            Coordinates file (.gro, .pdb)\n",
    "      -energy_file energy.xvg\n",
    "                            File containing the energy terms extracted from the \n",
    "                            simulations (.xvg)\n",
    "      -sdf_file compound.sdf\n",
    "                            SDF file of the compound. Used to compute topological counts \n",
    "                            and properties. Alternative to -ismi\n",
    "      -ismi SMILES          SMILES of the compound. Used to compute topological counts and \n",
    "                            properties. Alternative to -sdf_file.\n",
    "      -cmpd_name compound_ID\n",
    "                            Name of the compound being analyzed. Returned in the output \n",
    "                            dataframe if specified\n",
    "      -output_filename output\n",
    "                            If specified, the output file name is \"MDFP_output.pkl\". \n",
    "                            Otherwise the output file is \"MDFP.pkl\" or \"MDFP_cmpd_name.pkl\" \n",
    "                            if -cmpd_name is specified)\n",
    "      -output_folder OUTPUT_FOLDER\n",
    "                            Folder in which the output file is written (Default = \".\")\n"
   ]
  },
  {
   "cell_type": "markdown",
   "metadata": {},
   "source": [
    "The traj_file (.xtc) and energy_file (.xvg) are generated by running the MD simulations. Therefore, by running the script run_md_water_4tutorial1.sh of Tutorial1. \n",
    "The energy_file.xvg can be customized according to the MD simulations or according to the energy terms of interest. An example is provided below.\n",
    "\n",
    "The coord_file (.gro or .pdb) is a necessary input files to start MD simulations.  \n",
    "\n",
    "To compute topological counts and properties, either the SDF file or the SMILES of the compounds must be given as input. The SDF files are generated in step 1 of Tutorial1 and stored in the folder sdf_files."
   ]
  },
  {
   "cell_type": "markdown",
   "metadata": {},
   "source": [
    "To compute the MDFP for CHEMBL1077779, run the following command. The output MDFP is stored in a dataframe (MDFP_CHEMBL1077779.pkl)."
   ]
  },
  {
   "cell_type": "raw",
   "metadata": {},
   "source": [
    "python3 compose_mdfp.py -traj_file data/center_nvt3_CHEMBL1077779_pH7_netcharge.xtc -coord_file data/CHEMBL1077779_pH7_netcharge.gro -energy_file data/nvt3_rf_CHEMBL1077779_pH7_netcharge.xvg -sdf_file sdf_files/CHEMBL1077779_pH7.sdf -cmpd_name CHEMBL1077779"
   ]
  },
  {
   "cell_type": "markdown",
   "metadata": {},
   "source": [
    "## 1.2 Construct the MDFPs from all the trajectoriy files in a given folder"
   ]
  },
  {
   "cell_type": "markdown",
   "metadata": {},
   "source": [
    "To extract the MDFP from multiple trajectory files, all contained in the same folder, you can use the script compose_mdfp_from_folder.py.\n",
    "\n",
    "Print help message:"
   ]
  },
  {
   "cell_type": "raw",
   "metadata": {},
   "source": [
    "python3 compose_mdfp_from_folder.py -h"
   ]
  },
  {
   "cell_type": "markdown",
   "metadata": {},
   "source": [
    "This returns:"
   ]
  },
  {
   "cell_type": "markdown",
   "metadata": {},
   "source": [
    "    usage: compose_mdfp_from_folder.py [-h] -traj_folder path [-sdf_folder path]\n",
    "                                       [-output_filename output]\n",
    "                                       [-output_folder path] [-save_steps integer]\n",
    "\n",
    "    DESCRIPTION: \n",
    "    ---------------- \n",
    "     Compose MDFP from all the MD trajectories (.xtc) in the folder provided as input (-traj_folder). \n",
    "     It returns a dataframe (pkl file) containing the MDFP terms and 2D-properties for all the analyzed compounds. \n",
    "     The name of the compound is guessed from the trajectory filename.  \n",
    "     Other required files for running this script (.gro and .avg) are searched in the folder provided as input (-traj_folder) based on the guessed compound name. \n",
    "     To compute 2D count and properties, specify -sdf_folder. \n",
    " \n",
    "    ARGUMENTS \n",
    "    ---------------- \n",
    "\n",
    "    optional arguments:\n",
    "      -h, --help            show this help message and exit\n",
    "      -traj_folder path     folder containing MD files\n",
    "      -sdf_folder path      folder containing SDF files\n",
    "      -output_filename output\n",
    "                            If specified, the output file is \"MDFP_output.pkl\". Otherwise \n",
    "                            the output file is \"MDFP.pkl\". If MDFP.pkl already exists in\n",
    "                            the output folder, it will be overwritten\n",
    "      -output_folder path   folder in which the output files are written\n",
    "      -save_steps integer   Saving frequency. Save the MDFPs every 10 compounds being \n",
    "                            analyzed"
   ]
  },
  {
   "cell_type": "raw",
   "metadata": {},
   "source": [
    "python3 compose_mdfp_from_folder.py -traj_folder ./data -sdf_folder sdf_files "
   ]
  },
  {
   "cell_type": "markdown",
   "metadata": {},
   "source": [
    "## 1.3 Construct MDFPs from python shell "
   ]
  },
  {
   "cell_type": "markdown",
   "metadata": {},
   "source": [
    "Import required libraries"
   ]
  },
  {
   "cell_type": "code",
   "execution_count": 1,
   "metadata": {},
   "outputs": [],
   "source": [
    "import sys\n",
    "sys.path.append('ex2_compose_mdfp')\n",
    "from ComposerGmx import *"
   ]
  },
  {
   "cell_type": "markdown",
   "metadata": {},
   "source": [
    "Read required input files: trajectory file, coordinates file, file containing energy terms, and SDF file"
   ]
  },
  {
   "cell_type": "code",
   "execution_count": 2,
   "metadata": {},
   "outputs": [],
   "source": [
    "traj_file = 'ex2_compose_mdfp/data/center_nvt3_CHEMBL1077779_pH7_netcharge.xtc'\n",
    "energy_file = 'ex2_compose_mdfp/data/nvt3_rf_CHEMBL1077779_pH7_netcharge.xvg'\n",
    "coord_file = 'ex2_compose_mdfp/data/CHEMBL1077779_pH7_netcharge.gro'\n",
    "sdf_file = 'ex2_compose_mdfp/sdf_files/CHEMBL1077779_pH7.sdf'"
   ]
  },
  {
   "cell_type": "markdown",
   "metadata": {},
   "source": [
    "Initialize output dictionary in which to store MDFP terms"
   ]
  },
  {
   "cell_type": "code",
   "execution_count": 3,
   "metadata": {},
   "outputs": [],
   "source": [
    "Fingerprint = [] # initialize list of dictionaries. one for each compound\n",
    "Dict_Fingerprint = {} # initialize dictionary"
   ]
  },
  {
   "cell_type": "markdown",
   "metadata": {},
   "source": [
    "Add name of the compound to the dictionary"
   ]
  },
  {
   "cell_type": "code",
   "execution_count": 4,
   "metadata": {},
   "outputs": [],
   "source": [
    "Dict_Fingerprint.update({'cmpd_name': 'CHEMBL1077779'})"
   ]
  },
  {
   "cell_type": "markdown",
   "metadata": {},
   "source": [
    "Calculate 2D counts and properties:"
   ]
  },
  {
   "cell_type": "code",
   "execution_count": 5,
   "metadata": {},
   "outputs": [
    {
     "data": {
      "text/plain": [
       "{'cmpd_name': 'CHEMBL1077779',\n",
       " 'smiles': 'CCCCC1N(CC2CCCCC2)C(=O)OC12CC[NH+](C1(C)CCN(C(=O)c3c(C)cccc3C)CC1)CC2',\n",
       " 'MW': 538.40031894409,\n",
       " 'HA_count': 39,\n",
       " 'RB_count': 8,\n",
       " 'N_count': 3,\n",
       " 'O_count': 3,\n",
       " 'F_count': 0,\n",
       " 'P_count': 0,\n",
       " 'S_count': 0,\n",
       " 'Cl_count': 0,\n",
       " 'Br_count': 0,\n",
       " 'I_count': 0,\n",
       " 'HBD_count': 1,\n",
       " 'HBA_count': 5,\n",
       " '2d_shape': 6.4040808072224715,\n",
       " '2d_psa': 0.5429,\n",
       " 'is_zwit': 0}"
      ]
     },
     "execution_count": 5,
     "metadata": {},
     "output_type": "execute_result"
    }
   ],
   "source": [
    "# Read in molecule\n",
    "mol = Chem.MolFromMolFile(sdf_file)\n",
    "smiles = Chem.MolToSmiles(mol)\n",
    "Dict_Fingerprint.update({\"smiles\": smiles})\n",
    "# Compute 2D counts and properties and add them to the dictionary\n",
    "Dict_Fingerprint.update(ComposerGMX.Properties2D_From_Mol(mol))\n",
    "# 2D counts and properties can also be computed from SMILES using the functions ComposerGMX.Properties2D_From_SMILES(SMILES)\n",
    "Dict_Fingerprint"
   ]
  },
  {
   "cell_type": "markdown",
   "metadata": {},
   "source": [
    "Compute MDFP terms:"
   ]
  },
  {
   "cell_type": "markdown",
   "metadata": {},
   "source": [
    "To check the documentation of each function type:"
   ]
  },
  {
   "cell_type": "code",
   "execution_count": 6,
   "metadata": {},
   "outputs": [
    {
     "name": "stdout",
     "output_type": "stream",
     "text": [
      "Help on method Properties2D_From_Mol in module ComposerGmx:\n",
      "\n",
      "Properties2D_From_Mol(molecule, cmpd_name=None, includeSandP=None, dist_cutoff=None) method of builtins.type instance\n",
      "    It returns a dictionary of 2D-counts and properties for the input RDKit molecule. \n",
      "    These are: number of heavy atoms (\"HA_count\"), number of rotatable bonds (\"RB_count\"), number of N, O, F, P, S, Cl, Br, and I atoms (\"ATOM_count\" where ATOM is the element), molecular weight (\"MW\"), number of hydrogen bond donor (\"HBD_count\") and acceptor atoms (\"HBA_count\"), binary zwitterionic flag (\"is_zwit\"), 2D-shape parameter (\"2d_shape\"), and the topological polar surface area (\"2d_psa\"). \n",
      "    The 2D-shape parameter descibes the elongation of the molecule (see the function calc_shape_from_Mol for details).\n",
      "    \n",
      "    Parameters:\n",
      "    ----------\n",
      "    Molecule: RDKit molecule\n",
      "        Molecule read in using one of the RDKit functions. See RDKit documentation.\n",
      "    includeSandP: bool, optional\n",
      "        Set to False to exclude the S and P atoms from the calculation of the TPSA. (Default = True) \n",
      "    dist_cutoff: float, optional\n",
      "        Cutoff distance for the definition of a zwitterionic compound. (Default = None)  \n",
      "        If the compound contains both a positively and a negatively charged chemical group and these are at a distance from each other smaller than the cutoff distance (dist_cutoff), \n",
      "        than the zwitterionic flag (\"is_zwit\") is set to 1. Otherwise the compound is considered not zwitterionic (\"is_zwit\" = 0).\n",
      "        If the cutoff distance is not specified, then every compound containing both a positively and a negatively charged groups is considered zwitterionic. \n",
      "    cmpd_name: str, optional\n",
      "        Name of the compound. If specified, it is returned in the output dictionary. (Default = None) \n",
      "    \n",
      "    Returns\n",
      "    ----------\n",
      "    dict_2dcounts: dict\n",
      "        Dictionary of 2D-counts and properties (see description above). \n",
      "        If cmpd_name is specified, it is returned in the dictionary.\n",
      "\n"
     ]
    }
   ],
   "source": [
    "help(ComposerGMX.Properties2D_From_Mol)"
   ]
  },
  {
   "cell_type": "code",
   "execution_count": 7,
   "metadata": {},
   "outputs": [
    {
     "name": "stdout",
     "output_type": "stream",
     "text": [
      " PyMOL not running, entering library mode (experimental)\n"
     ]
    }
   ],
   "source": [
    "# Compute energy terms from the energy_file and add them to the dictionary\n",
    "Dict_Fingerprint.update(ComposerGMX.EnergyTermsGmx(energy_file))\n",
    "\n",
    "# The following steps are required to read in the trajectory and compute sasa and rgyr\n",
    "# convert gro to pdb\n",
    "ComposerGMX.gro2pdb(coord_file)\n",
    "# the output pdb file will have the same name of the gro file: CHEMBL1077779_pH7_netcharge.pdb\n",
    "pdb_file = os.path.splitext(coord_file)[0] + '.pdb'\n",
    "# load pdb and identify indices of solute atoms\n",
    "pdb = md.load(pdb_file)\n",
    "topology = pdb.topology\n",
    "solute_atoms = ComposerGMX.solute_solvent_split(topology)[0]\n",
    "# read in the trajectory but only for the solute. Solvent not loaded\n",
    "solute_traj = md.load(traj_file, top=pdb_file, atom_indices = solute_atoms)\n",
    "# Compute SASA and Rgyr and add the terms to the output dictionary\n",
    "Dict_Fingerprint.update(ComposerGMX.extract_rgyr(solute_traj))\n",
    "Dict_Fingerprint.update(ComposerGMX.extract_sasa(solute_traj))\n",
    "\n",
    "# Compute the 3D-PSA. The extract_psa3d function uses pymol to compute the 3D-PSA.\n",
    "Dict_Fingerprint.update(ComposerGMX.extract_psa3d(traj_file, coord_file, include_SandP = True))"
   ]
  },
  {
   "cell_type": "code",
   "execution_count": 8,
   "metadata": {},
   "outputs": [
    {
     "data": {
      "text/plain": [
       "{'cmpd_name': 'CHEMBL1077779',\n",
       " 'smiles': 'CCCCC1N(CC2CCCCC2)C(=O)OC12CC[NH+](C1(C)CCN(C(=O)c3c(C)cccc3C)CC1)CC2',\n",
       " 'MW': 538.40031894409,\n",
       " 'HA_count': 39,\n",
       " 'RB_count': 8,\n",
       " 'N_count': 3,\n",
       " 'O_count': 3,\n",
       " 'F_count': 0,\n",
       " 'P_count': 0,\n",
       " 'S_count': 0,\n",
       " 'Cl_count': 0,\n",
       " 'Br_count': 0,\n",
       " 'I_count': 0,\n",
       " 'HBD_count': 1,\n",
       " 'HBA_count': 5,\n",
       " '2d_shape': 6.4040808072224715,\n",
       " '2d_psa': 0.5429,\n",
       " 'is_zwit': 0,\n",
       " 'intra_crf_av_wat': -362.0758371761648,\n",
       " 'intra_crf_std_wat': 4.52381883701882,\n",
       " 'intra_crf_med_wat': -362.216736,\n",
       " 'intra_lj_av_wat': 67.78596650349931,\n",
       " 'intra_lj_std_wat': 10.158554294182972,\n",
       " 'intra_lj_med_wat': 67.22666999999998,\n",
       " 'total_crf_av_wat': -655.1365829774045,\n",
       " 'total_crf_std_wat': 28.993538457079023,\n",
       " 'total_crf_med_wat': -655.15396,\n",
       " 'total_lj_av_wat': -122.93220517016599,\n",
       " 'total_lj_std_wat': 17.238890131060966,\n",
       " 'total_lj_med_wat': -123.475686,\n",
       " 'intra_ene_av_wat': -294.2898706726655,\n",
       " 'intra_ene_std_wat': 10.655169132970629,\n",
       " 'intra_ene_med_wat': -294.86599299999995,\n",
       " 'total_ene_av_wat': -778.0687881475706,\n",
       " 'total_ene_std_wat': 30.144125750237034,\n",
       " 'total_ene_med_wat': -778.144234,\n",
       " 'wat_rgyr_av': 0.5722355250992888,\n",
       " 'wat_rgyr_std': 0.014887964698138363,\n",
       " 'wat_rgyr_med': 0.5723889257247998,\n",
       " 'wat_sasa_av': 8.7880335,\n",
       " 'wat_sasa_std': 0.10072524,\n",
       " 'wat_sasa_med': 8.794202,\n",
       " '3d_psa_av': 0.5777376787779761,\n",
       " '3d_psa_sd': 0.01152073780233401,\n",
       " '3d_psa_med': 0.5778084373474122}"
      ]
     },
     "execution_count": 8,
     "metadata": {},
     "output_type": "execute_result"
    }
   ],
   "source": [
    "Dict_Fingerprint"
   ]
  },
  {
   "cell_type": "markdown",
   "metadata": {},
   "source": [
    "Convert dictionary to dataframe:"
   ]
  },
  {
   "cell_type": "code",
   "execution_count": 9,
   "metadata": {},
   "outputs": [
    {
     "data": {
      "text/html": [
       "<div>\n",
       "<style scoped>\n",
       "    .dataframe tbody tr th:only-of-type {\n",
       "        vertical-align: middle;\n",
       "    }\n",
       "\n",
       "    .dataframe tbody tr th {\n",
       "        vertical-align: top;\n",
       "    }\n",
       "\n",
       "    .dataframe thead th {\n",
       "        text-align: right;\n",
       "    }\n",
       "</style>\n",
       "<table border=\"1\" class=\"dataframe\">\n",
       "  <thead>\n",
       "    <tr style=\"text-align: right;\">\n",
       "      <th></th>\n",
       "      <th>cmpd_name</th>\n",
       "      <th>smiles</th>\n",
       "      <th>MW</th>\n",
       "      <th>HA_count</th>\n",
       "      <th>RB_count</th>\n",
       "      <th>N_count</th>\n",
       "      <th>O_count</th>\n",
       "      <th>F_count</th>\n",
       "      <th>P_count</th>\n",
       "      <th>S_count</th>\n",
       "      <th>...</th>\n",
       "      <th>total_ene_med_wat</th>\n",
       "      <th>wat_rgyr_av</th>\n",
       "      <th>wat_rgyr_std</th>\n",
       "      <th>wat_rgyr_med</th>\n",
       "      <th>wat_sasa_av</th>\n",
       "      <th>wat_sasa_std</th>\n",
       "      <th>wat_sasa_med</th>\n",
       "      <th>3d_psa_av</th>\n",
       "      <th>3d_psa_sd</th>\n",
       "      <th>3d_psa_med</th>\n",
       "    </tr>\n",
       "  </thead>\n",
       "  <tbody>\n",
       "    <tr>\n",
       "      <th>0</th>\n",
       "      <td>CHEMBL1077779</td>\n",
       "      <td>CCCCC1N(CC2CCCCC2)C(=O)OC12CC[NH+](C1(C)CCN(C(...</td>\n",
       "      <td>538.400319</td>\n",
       "      <td>39</td>\n",
       "      <td>8</td>\n",
       "      <td>3</td>\n",
       "      <td>3</td>\n",
       "      <td>0</td>\n",
       "      <td>0</td>\n",
       "      <td>0</td>\n",
       "      <td>...</td>\n",
       "      <td>-778.144234</td>\n",
       "      <td>0.572236</td>\n",
       "      <td>0.014888</td>\n",
       "      <td>0.572389</td>\n",
       "      <td>8.788033</td>\n",
       "      <td>0.100725</td>\n",
       "      <td>8.794202</td>\n",
       "      <td>0.577738</td>\n",
       "      <td>0.011521</td>\n",
       "      <td>0.577808</td>\n",
       "    </tr>\n",
       "  </tbody>\n",
       "</table>\n",
       "<p>1 rows × 45 columns</p>\n",
       "</div>"
      ],
      "text/plain": [
       "       cmpd_name                                             smiles  \\\n",
       "0  CHEMBL1077779  CCCCC1N(CC2CCCCC2)C(=O)OC12CC[NH+](C1(C)CCN(C(...   \n",
       "\n",
       "           MW  HA_count  RB_count  N_count  O_count  F_count  P_count  \\\n",
       "0  538.400319        39         8        3        3        0        0   \n",
       "\n",
       "   S_count  ...  total_ene_med_wat  wat_rgyr_av  wat_rgyr_std  wat_rgyr_med  \\\n",
       "0        0  ...        -778.144234     0.572236      0.014888      0.572389   \n",
       "\n",
       "   wat_sasa_av  wat_sasa_std  wat_sasa_med  3d_psa_av  3d_psa_sd  3d_psa_med  \n",
       "0     8.788033      0.100725      8.794202   0.577738   0.011521    0.577808  \n",
       "\n",
       "[1 rows x 45 columns]"
      ]
     },
     "execution_count": 9,
     "metadata": {},
     "output_type": "execute_result"
    }
   ],
   "source": [
    "Fingerprint.append(Dict_Fingerprint) # append one dictionary for every compound analyzed.\n",
    "pd.DataFrame(Fingerprint)"
   ]
  },
  {
   "cell_type": "markdown",
   "metadata": {},
   "source": [
    "## 2. Customize MDFPs"
   ]
  },
  {
   "cell_type": "markdown",
   "metadata": {},
   "source": [
    "## 2.1 Customize energy terms "
   ]
  },
  {
   "cell_type": "markdown",
   "metadata": {},
   "source": [
    "The energy terms are extracted from the MD trajectories using the GROMACS function gmx energy. See also GROMACS documentation (http://manual.gromacs.org/documentation/current/onlinehelp/gmx-energy.html).\n",
    "\n",
    "You can compute different energy terms by running the command below. The specified terms are computed for each frame and stored in the specified .xvg file."
   ]
  },
  {
   "cell_type": "raw",
   "metadata": {},
   "source": [
    "gmx energy -f nvt3_rf_BASENAME.edr -o nvt3_rf_BASENAME.xvg"
   ]
  },
  {
   "cell_type": "markdown",
   "metadata": {},
   "source": [
    "Once you have the xvg file, you need to write your own classmethod in the ComposerGMX class (in the file classes_composer.py) or, alternatively, you can write your own function in one of the compose_mdfp python scripts. As an example, look at the EnergyTermsGmx classmethod in classes_composer.py.  \n",
    "\n",
    "The first line of your function/classmethod should call the read_xvg function:"
   ]
  },
  {
   "cell_type": "code",
   "execution_count": 10,
   "metadata": {},
   "outputs": [
    {
     "data": {
      "text/html": [
       "<div>\n",
       "<style scoped>\n",
       "    .dataframe tbody tr th:only-of-type {\n",
       "        vertical-align: middle;\n",
       "    }\n",
       "\n",
       "    .dataframe tbody tr th {\n",
       "        vertical-align: top;\n",
       "    }\n",
       "\n",
       "    .dataframe thead th {\n",
       "        text-align: right;\n",
       "    }\n",
       "</style>\n",
       "<table border=\"1\" class=\"dataframe\">\n",
       "  <thead>\n",
       "    <tr style=\"text-align: right;\">\n",
       "      <th></th>\n",
       "      <th>time</th>\n",
       "      <th>Coul-SR:Water_and_ions-LIG</th>\n",
       "      <th>LJ-SR:Water_and_ions-LIG</th>\n",
       "      <th>Coul-14:Water_and_ions-LIG</th>\n",
       "      <th>LJ-14:Water_and_ions-LIG</th>\n",
       "      <th>Coul-SR:LIG-LIG</th>\n",
       "      <th>LJ-SR:LIG-LIG</th>\n",
       "      <th>Coul-14:LIG-LIG</th>\n",
       "      <th>LJ-14:LIG-LIG</th>\n",
       "    </tr>\n",
       "  </thead>\n",
       "  <tbody>\n",
       "    <tr>\n",
       "      <th>0</th>\n",
       "      <td>0.0</td>\n",
       "      <td>-248.006775</td>\n",
       "      <td>-193.824005</td>\n",
       "      <td>0.0</td>\n",
       "      <td>0.0</td>\n",
       "      <td>293.304169</td>\n",
       "      <td>-37.128689</td>\n",
       "      <td>-658.616028</td>\n",
       "      <td>96.577568</td>\n",
       "    </tr>\n",
       "    <tr>\n",
       "      <th>1</th>\n",
       "      <td>1.0</td>\n",
       "      <td>-326.848846</td>\n",
       "      <td>-188.927216</td>\n",
       "      <td>0.0</td>\n",
       "      <td>0.0</td>\n",
       "      <td>288.573090</td>\n",
       "      <td>-23.830988</td>\n",
       "      <td>-653.050781</td>\n",
       "      <td>110.039108</td>\n",
       "    </tr>\n",
       "    <tr>\n",
       "      <th>2</th>\n",
       "      <td>2.0</td>\n",
       "      <td>-243.550308</td>\n",
       "      <td>-189.362839</td>\n",
       "      <td>0.0</td>\n",
       "      <td>0.0</td>\n",
       "      <td>285.984253</td>\n",
       "      <td>-26.193317</td>\n",
       "      <td>-653.422607</td>\n",
       "      <td>101.753799</td>\n",
       "    </tr>\n",
       "    <tr>\n",
       "      <th>3</th>\n",
       "      <td>3.0</td>\n",
       "      <td>-288.854401</td>\n",
       "      <td>-201.806198</td>\n",
       "      <td>0.0</td>\n",
       "      <td>0.0</td>\n",
       "      <td>287.162292</td>\n",
       "      <td>-39.007591</td>\n",
       "      <td>-653.411926</td>\n",
       "      <td>103.558929</td>\n",
       "    </tr>\n",
       "    <tr>\n",
       "      <th>4</th>\n",
       "      <td>4.0</td>\n",
       "      <td>-305.545929</td>\n",
       "      <td>-177.565567</td>\n",
       "      <td>0.0</td>\n",
       "      <td>0.0</td>\n",
       "      <td>282.829010</td>\n",
       "      <td>-40.269783</td>\n",
       "      <td>-655.066284</td>\n",
       "      <td>105.343872</td>\n",
       "    </tr>\n",
       "  </tbody>\n",
       "</table>\n",
       "</div>"
      ],
      "text/plain": [
       "   time  Coul-SR:Water_and_ions-LIG  LJ-SR:Water_and_ions-LIG  \\\n",
       "0   0.0                 -248.006775               -193.824005   \n",
       "1   1.0                 -326.848846               -188.927216   \n",
       "2   2.0                 -243.550308               -189.362839   \n",
       "3   3.0                 -288.854401               -201.806198   \n",
       "4   4.0                 -305.545929               -177.565567   \n",
       "\n",
       "   Coul-14:Water_and_ions-LIG  LJ-14:Water_and_ions-LIG  Coul-SR:LIG-LIG  \\\n",
       "0                         0.0                       0.0       293.304169   \n",
       "1                         0.0                       0.0       288.573090   \n",
       "2                         0.0                       0.0       285.984253   \n",
       "3                         0.0                       0.0       287.162292   \n",
       "4                         0.0                       0.0       282.829010   \n",
       "\n",
       "   LJ-SR:LIG-LIG  Coul-14:LIG-LIG  LJ-14:LIG-LIG  \n",
       "0     -37.128689      -658.616028      96.577568  \n",
       "1     -23.830988      -653.050781     110.039108  \n",
       "2     -26.193317      -653.422607     101.753799  \n",
       "3     -39.007591      -653.411926     103.558929  \n",
       "4     -40.269783      -655.066284     105.343872  "
      ]
     },
     "execution_count": 10,
     "metadata": {},
     "output_type": "execute_result"
    }
   ],
   "source": [
    "# import libraries \n",
    "import sys\n",
    "sys.path.append('ex2_compose_mdfp')\n",
    "from classes_composer import *\n",
    "\n",
    "energy_df = ComposerGMX.read_xvg(\"ex2_compose_mdfp/data/nvt3_rf_CHEMBL1077779_pH7_netcharge.xvg\")\n",
    "energy_df.head()\n",
    "    "
   ]
  },
  {
   "cell_type": "markdown",
   "metadata": {},
   "source": [
    "This function reads the xvg file into a dataframe. The column names will contain the names of the energy terms as defined by GROMACS. \n",
    "\n",
    "Alternative, if you already have the energy terms in a dataframe, you might want to use functions of pandas to read the data in. For example, for a csv file use pd.read_csv(energy_file). "
   ]
  },
  {
   "cell_type": "markdown",
   "metadata": {},
   "source": [
    "If you want to add an energy term which is the sum of all the LJ contributions, do:"
   ]
  },
  {
   "cell_type": "code",
   "execution_count": 11,
   "metadata": {},
   "outputs": [
    {
     "name": "stdout",
     "output_type": "stream",
     "text": [
      "The column containing LJ energy contributions are: [2, 4, 6, 8]\n",
      "Mean, standard deviation and median of the LJ energy term are:-122.93220517016599,17.238890131060963,and -123.47568600000001 kJ/mol\n"
     ]
    }
   ],
   "source": [
    "#look for all the columns having the 'LJ' word in the column name \n",
    "LJ_column_indeces = [i for i, s in enumerate(energy_df) if 'LJ' in s]\n",
    "print(\"The column containing LJ energy contributions are: {}\".format(LJ_column_indeces))\n",
    "\n",
    "# Convert the dataframe into a numpy array\n",
    "energy_array = np.array(energy_df)\n",
    "\n",
    "# sum up all the columns containing LJ energy contributions\n",
    "lj = np.sum(energy_array[:,LJ_column_indeces], axis=1)\n",
    "\n",
    "# calculate mean, standard deviation and median\n",
    "lj_mean, lj_std, lj_med = ComposerGMX.get_stats(lj)\n",
    "print(\"Mean, standard deviation and median of the LJ energy term are:{},{},and {} kJ/mol\".format(lj_mean, lj_std, lj_med))\n",
    "\n",
    "# add newly computed terms to a dictionary\n",
    "dict_ene_new = {'lj_mean': lj_mean, 'lj_std':lj_std, 'lj_med':lj_med}\n",
    "\n",
    "# all terms composing the MDFP are included in the dictionary Dict_Fingerprint. Update the dictionary:\n",
    "Dict_Fingerprint.update(dict_ene_new)"
   ]
  },
  {
   "cell_type": "markdown",
   "metadata": {},
   "source": [
    "Define a function that executes all those steps:"
   ]
  },
  {
   "cell_type": "code",
   "execution_count": 12,
   "metadata": {},
   "outputs": [],
   "source": [
    "def Customized_EnergyTermsGmx(energy_file_xvg):\n",
    "    # read energy file. The ComposerGMX.read_xvg function reads the xvg file into a dataframe. \n",
    "    # The column names will contain the names of the energy terms as defined by GROMACS.\n",
    "    energy_df = ComposerGMX.read_xvg(\"ex2_compose_mdfp/data/nvt3_rf_CHEMBL1077779_pH7_netcharge.xvg\")\n",
    "    energy_df.head()\n",
    "    # Convert the dataframe into a numpy array\n",
    "    energy_array = np.array(energy_df)\n",
    "    # write extracted terms into a dictionary\n",
    "    LJ_column_indeces = [i for i, s in enumerate(energy_df) if 'LJ' in s]\n",
    "    energy_array = np.array(energy_df)\n",
    "    # Sum the energy terms\n",
    "    lj = np.sum(energy_array[:,LJ_column_indeces], axis=1)\n",
    "    # calculate mean, standard deviation and median\n",
    "    lj_mean, lj_std, lj_med = ComposerGMX.get_stats(lj)\n",
    "    # add newly computed terms to a dictionary\n",
    "    dict_ene_new = {'lj_mean': lj_mean, 'lj_std':lj_std, 'lj_med':lj_med}\n",
    "    return(dict_ene_new)"
   ]
  },
  {
   "cell_type": "markdown",
   "metadata": {},
   "source": [
    "Execute the fuction and update the Dict_Fingerprint dictionary:"
   ]
  },
  {
   "cell_type": "code",
   "execution_count": 13,
   "metadata": {},
   "outputs": [
    {
     "data": {
      "text/plain": [
       "{'cmpd_name': 'CHEMBL1077779',\n",
       " 'smiles': 'CCCCC1N(CC2CCCCC2)C(=O)OC12CC[NH+](C1(C)CCN(C(=O)c3c(C)cccc3C)CC1)CC2',\n",
       " 'MW': 538.40031894409,\n",
       " 'HA_count': 39,\n",
       " 'RB_count': 8,\n",
       " 'N_count': 3,\n",
       " 'O_count': 3,\n",
       " 'F_count': 0,\n",
       " 'P_count': 0,\n",
       " 'S_count': 0,\n",
       " 'Cl_count': 0,\n",
       " 'Br_count': 0,\n",
       " 'I_count': 0,\n",
       " 'HBD_count': 1,\n",
       " 'HBA_count': 5,\n",
       " '2d_shape': 6.4040808072224715,\n",
       " '2d_psa': 0.5429,\n",
       " 'is_zwit': 0,\n",
       " 'intra_crf_av_wat': -362.0758371761648,\n",
       " 'intra_crf_std_wat': 4.52381883701882,\n",
       " 'intra_crf_med_wat': -362.216736,\n",
       " 'intra_lj_av_wat': 67.78596650349931,\n",
       " 'intra_lj_std_wat': 10.158554294182972,\n",
       " 'intra_lj_med_wat': 67.22666999999998,\n",
       " 'total_crf_av_wat': -655.1365829774045,\n",
       " 'total_crf_std_wat': 28.993538457079023,\n",
       " 'total_crf_med_wat': -655.15396,\n",
       " 'total_lj_av_wat': -122.93220517016599,\n",
       " 'total_lj_std_wat': 17.238890131060966,\n",
       " 'total_lj_med_wat': -123.475686,\n",
       " 'intra_ene_av_wat': -294.2898706726655,\n",
       " 'intra_ene_std_wat': 10.655169132970629,\n",
       " 'intra_ene_med_wat': -294.86599299999995,\n",
       " 'total_ene_av_wat': -778.0687881475706,\n",
       " 'total_ene_std_wat': 30.144125750237034,\n",
       " 'total_ene_med_wat': -778.144234,\n",
       " 'wat_rgyr_av': 0.5722355250992888,\n",
       " 'wat_rgyr_std': 0.014887964698138363,\n",
       " 'wat_rgyr_med': 0.5723889257247998,\n",
       " 'wat_sasa_av': 8.7880335,\n",
       " 'wat_sasa_std': 0.10072524,\n",
       " 'wat_sasa_med': 8.794202,\n",
       " '3d_psa_av': 0.5777376787779761,\n",
       " '3d_psa_sd': 0.01152073780233401,\n",
       " '3d_psa_med': 0.5778084373474122,\n",
       " 'lj_mean': -122.93220517016599,\n",
       " 'lj_std': 17.238890131060963,\n",
       " 'lj_med': -123.47568600000001}"
      ]
     },
     "execution_count": 13,
     "metadata": {},
     "output_type": "execute_result"
    }
   ],
   "source": [
    "energy_file = \"ex2_compose_mdfp/data/nvt3_rf_CHEMBL1077779_pH7_netcharge.xvg\"\n",
    "Dict_Fingerprint.update(Customized_EnergyTermsGmx(energy_file))\n",
    "Dict_Fingerprint"
   ]
  },
  {
   "cell_type": "markdown",
   "metadata": {},
   "source": [
    "## 2.2 Add different features "
   ]
  },
  {
   "cell_type": "markdown",
   "metadata": {},
   "source": [
    "It is very simple to calculate properties different from those compared computed by default. Only 3 steps are required:\n",
    "\n",
    "    1. Compute the property of interest for every trajectory frame. There are different python packages containing MD analysis tools, such as MDTraj, pytraj, MDanalysis,...\n",
    "    2. Use the function ComposerGMX.get_stat() to obtain mean, standard deviation and median. \n",
    "    3. Store the terms of interest in the output dictionary. "
   ]
  },
  {
   "cell_type": "markdown",
   "metadata": {},
   "source": [
    "Let's assume you want to add to the MDFP the mean, standard deviation, and median of the dipole moment and of the dipole moment x-, y-, z- components. \n",
    "\n",
    "To do this, the partial charges of the solute atoms are needed. These are contained in the topology file (.top for GROMACS). The topology file can be read using the parmed library.\n"
   ]
  },
  {
   "cell_type": "code",
   "execution_count": 14,
   "metadata": {},
   "outputs": [
    {
     "name": "stdout",
     "output_type": "stream",
     "text": [
      "       cmpd_name                                             smiles  \\\n",
      "0  CHEMBL1077779  CCCCC1N(CC2CCCCC2)C(=O)OC12CC[NH+](C1(C)CCN(C(...   \n",
      "\n",
      "           MW  HA_count  RB_count  N_count  O_count  F_count  P_count  \\\n",
      "0  538.400319        39         8        3        3        0        0   \n",
      "\n",
      "   S_count  ...   av_mu_z  std_mu_x  std_mu_y  std_mu_z  med_mu_x  med_mu_y  \\\n",
      "0        0  ... -0.134923  0.399214  0.348376  0.347874  0.127883 -0.097114   \n",
      "\n",
      "   med_mu_z     av_mu    std_mu    med_mu  \n",
      "0 -0.164791  0.647369  0.091712  0.644671  \n",
      "\n",
      "[1 rows x 60 columns]\n"
     ]
    }
   ],
   "source": [
    "import parmed as pmd\n",
    "\n",
    "# read topology file\n",
    "top_file = \"ex2_compose_mdfp/data/CHEMBL1077779_pH7_netcharge.top\"\n",
    "prm_obj = pmd.gromacs.GromacsTopologyFile(top_file)\n",
    "\n",
    "# extract partial charges of the solute atoms\n",
    "solute_charges = [i.charge for idx,i in enumerate(prm_obj.atoms) if idx in solute_atoms ]\n",
    "\n",
    "# use the dipole_moment function of mdtraj to compute the dipole moment components \n",
    "dip_moments = md.dipole_moments(solute_traj, solute_charges)\n",
    "# obtain the dipole magnitude\n",
    "dipole_magnitude = np.sqrt(np.square(dip_moments).sum(axis=1))\n",
    "\n",
    "# calculate mean, standard deviation, and median of the dipole moment x-, y-, z- components\n",
    "dip_components_av = list(dip_moments.mean(axis=0))  \n",
    "dip_components_std = list(dip_moments.std(axis=0))  \n",
    "dip_components_med = list(np.median(dip_moments, axis=0))  \n",
    "# calculate mean, standard deviation, and median of the dipole magnitude\n",
    "dip_mom_stats = ComposerGMX.get_stats(dipole_magnitude)  \n",
    "\n",
    "# update the MDFP output dictionary and print out the dataframe\n",
    "dict_dip_mom = {'av_mu_x': dip_components_av[0], 'av_mu_y': dip_components_av[1], 'av_mu_z': dip_components_av[2], 'std_mu_x': dip_components_std[0], 'std_mu_y': dip_components_std[1], 'std_mu_z': dip_components_std[2], 'med_mu_x': dip_components_med[0], 'med_mu_y': dip_components_med[1], 'med_mu_z': dip_components_med[2], 'av_mu': dip_mom_stats[0], 'std_mu': dip_mom_stats[1], 'med_mu': dip_mom_stats[2]}\n",
    "Dict_Fingerprint.update(dict_dip_mom)\n",
    "print(pd.DataFrame([Dict_Fingerprint]))\n"
   ]
  },
  {
   "cell_type": "markdown",
   "metadata": {},
   "source": [
    "As previously mentioned, there are a number of python packages which could be useful for the analysis of MD trajectories. Below, there is an example of how to use functions of pytraj. "
   ]
  },
  {
   "cell_type": "code",
   "execution_count": 15,
   "metadata": {},
   "outputs": [],
   "source": [
    "# Load pytraj and load the trajectory using the function pt.iterload() of pytraj.\n",
    "\n",
    "import pytraj as pt\n",
    "pytraj_traj = pt.iterload(traj_file, top=pdb_file)"
   ]
  },
  {
   "cell_type": "markdown",
   "metadata": {},
   "source": [
    "Calculate the center of geometry of the solute:"
   ]
  },
  {
   "cell_type": "code",
   "execution_count": 16,
   "metadata": {},
   "outputs": [
    {
     "data": {
      "text/plain": [
       "array([[21.60871897, 20.94846249, 21.79718036],\n",
       "       [20.8523087 , 20.55487275, 21.30846247],\n",
       "       [20.85846253, 20.70820625, 20.92282152],\n",
       "       ...,\n",
       "       [21.36230881, 20.61359078, 22.02077022],\n",
       "       [21.33589864, 20.43359078, 22.11025752],\n",
       "       [21.31282183, 20.6951293 , 22.12359068]])"
      ]
     },
     "execution_count": 16,
     "metadata": {},
     "output_type": "execute_result"
    }
   ],
   "source": [
    "centroid_lig = pt.center_of_geometry(pytraj_traj, mask=':LIG & !(@H=)')\n",
    "centroid_lig"
   ]
  },
  {
   "cell_type": "code",
   "execution_count": null,
   "metadata": {},
   "outputs": [],
   "source": []
  }
 ],
 "metadata": {
  "kernelspec": {
   "display_name": "Python 3",
   "language": "python",
   "name": "python3"
  },
  "language_info": {
   "codemirror_mode": {
    "name": "ipython",
    "version": 3
   },
   "file_extension": ".py",
   "mimetype": "text/x-python",
   "name": "python",
   "nbconvert_exporter": "python",
   "pygments_lexer": "ipython3",
   "version": "3.6.8"
  }
 },
 "nbformat": 4,
 "nbformat_minor": 2
}
