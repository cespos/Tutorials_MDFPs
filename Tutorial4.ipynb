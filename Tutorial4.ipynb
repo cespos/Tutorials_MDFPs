{
 "cells": [
  {
   "cell_type": "markdown",
   "metadata": {},
   "source": [
    "# Tutorial 4: Build Protein-Ligand MDFPs from MD Simulations"
   ]
  },
  {
   "cell_type": "markdown",
   "metadata": {},
   "source": [
    "## Outline \n",
    "\n",
    "0. Useful Information before starting <br>\n",
    "\n",
    "\n",
    "1. MD Simulations and Post-Processing <br>\n",
    "    1.1 Recompute protein-ligand energy terms <br>\n",
    "    1.2 Compute single residue-ligand energy terms <br>\n",
    "    1.3 Recentering Coordinates <br>\n",
    "    1.4 Test case <br>\n",
    "    \n",
    "\n",
    "2. Construct Protein-Ligand MDFPs for a single replica  <br>\n",
    "    \n",
    "    \n",
    "3. Construct Protein-Ligand MDFPs from a multiple replica <br>\n",
    "\n"
   ]
  },
  {
   "cell_type": "markdown",
   "metadata": {},
   "source": [
    "## 0. Useful Information before starting "
   ]
  },
  {
   "cell_type": "markdown",
   "metadata": {},
   "source": [
    "#### I)   INPUT FILES:\n",
    "MD trajectory (.xtc, .h5, .trr), coordinates file (.gro or .pdb), and file containing energy terms extracted from the trajectories (.xvg or .csv)."
   ]
  },
  {
   "cell_type": "markdown",
   "metadata": {},
   "source": [
    "#### II) REQUIRED SOFTWARES AND PYTHON LIBRARIES\n",
    "\n",
    "##### Softwares:\n",
    "python3 <br>\n",
    "\n",
    "##### Python Liraries:\n",
    "RDKit <br>\n",
    "subprocess<br>\n",
    "pandas <br>\n",
    "numpy <br>\n",
    "glob <br>\n",
    "mdtraj <br>\n",
    "pymol <br>\n",
    "os <br>\n",
    "scipy <br>\n"
   ]
  },
  {
   "cell_type": "markdown",
   "metadata": {},
   "source": [
    "## 1 MD Simulations and Post-Processing"
   ]
  },
  {
   "cell_type": "markdown",
   "metadata": {},
   "source": [
    "MD Simulations of protein-ligand complexes can be run with different simulation software and using different set ups.\n",
    "In this tutorial, we will not focus on how to set up MD simulations but on how to extract features from them and construct a MDFP. Multiple functions have been included in the MDFPTools package to calculate energy terms, the ligand solvent accessible surface area (SASA), the ligand radius of gyration (Rgyr), and the root-mean-square deviation (RMSD) of the ligand from the starting conformation. \n",
    "\n",
    "For a single protein-ligand complex, a single or multiple replicas can be run, for example starting from different docked poses. When multiple replicas are available for the same system, one can consider different approaches to construct the MDFPs:\n",
    "* Average the features over each of the replicas and include each term in the descriptor. \n",
    "    This implies that there will be N entries for each feature, where N is the number of replicas. For example, for simulations run in 3 replicas you will have Rgyr_av_1, Rgyr_av_2, Rgyr_av_3.\n",
    "* Average the features over all replicas.\n",
    "* Average the feautures only over the replica exhibiting the lowest average total potential energy.\n",
    "\n",
    "Features are stored in the MDFP as mean (<i>_av</i>), standard deviation (<i>_std</i>), and median (<i>_med</i>).\n",
    "\n",
    "Functions are available for each of these scenarios and in this tutorial we will guide you through the MDFP construction step by step.\n",
    "\n",
    "### 1.1 Recompute protein-ligand energy terms\n",
    "Most often, in MD simulations the long-range electrostatic interactions are dealt with using Particle-Mesh Ewald (PME). PME is not pairwise additive. Therefore, to be able to decompose the energy into contributions from the different parts of the system (protein, ligand, and water), it is essential to recompute the energy terms using reaction-field (RF), which instead is pairwise additive. \n",
    "\n",
    "To recompute the energy terms from GROMACS simulations, you can use the _-rerun_ option of _mdrun_ (See also the [GROMACS documentation](http://manual.gromacs.org/documentation/5.1/user-guide/mdrun-features.html)).\n",
    "First, you should generate a copy of the _mdp_ file used to carry out the simulations, e.g _md_RF.mdp_.\n",
    "Then, you should modify  _md_RF.mdp_ as follows:\n",
    "* replace the PME options with the RF options\n",
    "* specify the energy groups you are interested in:\n",
    "\n",
    "    energygrps = LIG Protein Water      #assuming that the ligand molecule is named \"LIG\"\n",
    "    energygrp-excl   = Protein Protein  #exclude protein-protein interactions. \n",
    "\n",
    "Recompute the energy terms by running the following commands: \n",
    "\n",
    "    gmx_mpi grompp -f md_RF.mdp -c system.gro -p system.top -o md_RF.tpr\n",
    "    gmx_mpi mdrun -s md_RF.tpr -rerun md.xtc -e md_RF.edr\n",
    "\n",
    "\n",
    "\n",
    "The output file _md_RF.edr_ will contain the energy terms recomputed with RF.\n",
    "Now you can extract the energy terms you are interested in using the _gmx energy_ function. For example:\n",
    "\n",
    "    gmx_mpi energy -f md_RF.edr -o md_RF.xvg <<EOF\n",
    "    Coul-SR:Water-LIG\n",
    "    LJ-SR:Water-LIG\n",
    "    Coul-14:Water-LIG\n",
    "    LJ-14:Water-LIG\n",
    "    Coul-SR:LIG-LIG\n",
    "    LJ-SR:LIG-LIG\n",
    "    Coul-14:LIG-LIG\n",
    "    LJ-14:LIG-LIG\n",
    "    Coul-SR:LIG-Protein\n",
    "    LJ-SR:LIG-Protein\n",
    "    Coul-14:LIG-Protein\n",
    "    LJ-14:LIG-Protein\n",
    "\n",
    "    EOF\n",
    "\n",
    "This command assumes that the ligand molecule is named LIG.\n",
    "The energy terms include the intramolecular potential energy of the solute (LIG-LIG), the solute-protein interaction energy (LIG-Protein), the solute-water interaction energy (Water-LIG), and the total potential energy (intramolecular + solute-protein + solute-water). These energy contributions are further split into Lennard Jones (LJ) and electrostatic components (Coul).  \n",
    "\n",
    "\n"
   ]
  },
  {
   "cell_type": "markdown",
   "metadata": {},
   "source": [
    "### 1.2 Compute single residue-ligand energy terms\n",
    "To compute single residue-ligand energy terms, you can use again the _-rerun_ option of _mdrun_.\n",
    "Once more, you need to recompute the energy terms using RF instead of PME. The same _md_RF.mdp_ file as the one described above can be used. However, this time you need to specify as energy groups the molecular name of the ligand (LIG) and the residue you are interested in:\n",
    "\n",
    "    energygrps = LIG r_RESIDUE\n",
    "    \n",
    "where RESIDUE is the residue number. For example:\n",
    "\n",
    "    energygrps = LIG r_255\n",
    "    \n",
    "To exclude the residue-residue interactions, which are not interesting, and the LIG-LIG interaction which you have already computed in the previous step, update the following line in the _mdp_ file:\n",
    "\n",
    "    energygrp-excl   = r_RESIDUE r_RESIDUE LIG LIG  \n",
    "\n",
    "Before computing the energy terms, you need to generate the index groups for the residues of interest. This can be done using the _gmx make_ndx_ function of GROMACS (See also the [GROMACS documentation](http://manual.gromacs.org/documentation/2018/onlinehelp/gmx-make_ndx.html)). For example, to generate the index groups for residues 145, 180, and 225: \n",
    "\n",
    "    gmx_mpi make_ndx -f system.gro -o index_system.ndx <<EOF\n",
    "    ri 145\n",
    "    ri 180\n",
    "    ri 255\n",
    "    q\n",
    "    EOF\n",
    "    \n",
    "Finally, as described above, recompute the energy terms as follows:\n",
    "\n",
    "    gmx_mpi grompp -f md_RF_residue.mdp -c system.gro -p system.top -o md_RF_residue.tpr -n index_system.ndx\n",
    "    gmx_mpi mdrun -s md_RF_residue.tpr -rerun md.xtc -e md_RF_residue.edr\n",
    "    gmx_mpi energy -f md_RF_residue.edr -o ene_res_255.xvg <<EOF\n",
    "    LJ-SR:LIG-r_255\n",
    "    Coul-SR:LIG-r_255\n",
    "    \n",
    "    EOF\n",
    "\n",
    "These steps have to be repeated for each of the residues of interest.\n",
    "The following paragraphs explain how to contruct the protein-ligand MDFPs from trajectory and energy (_xvg_) files. "
   ]
  },
  {
   "cell_type": "markdown",
   "metadata": {},
   "source": [
    "### 1.3 Recentering Coordinates\n",
    "\n",
    "Different tools are available for centering the system in the box and align the system to a reference structure, e.g. GROMACS, VMD, MDTraj.\n",
    "\n",
    "The GROMACS commands are the followings:\n",
    "\n",
    "To center the system in the box:\n",
    "\n",
    "    gmx trjconv -f md.xtc -s md.tpr -n index_system.ndx -pbc mol -ur compact -center -o center_md.xtc \n",
    "\n",
    "To remove center-of-mass motion and rotation from a trajectory:\n",
    "\n",
    "    gmx trjconv -s md.tpr -f center_md.xtc -o center_fit_md.xtc -fit rot+trans\n",
    "    \n",
    "(Choose \"Backbone\" to perform least-squares fitting to the protein backbone, and \"System\" for output.)\n",
    "    \n",
    "See also the [GROMACS tutorial](http://www.mdtutorials.com/gmx/complex/09_analysis.html) provided by the Lemkul Lab ([Ref](https://www.livecomsjournal.org/article/5068-from-proteins-to-perturbed-hamiltonians-a-suite-of-tutorials-for-the-gromacs-2018-molecular-simulation-package-article-v1-0)).\n"
   ]
  },
  {
   "cell_type": "markdown",
   "metadata": {},
   "source": [
    "### 1.4 Test Case\n",
    "\n",
    "In the `ex4_PL_MDFPs` folder we provide test energy files and trajectories for two protein-ligand complexes. The files were generated in the context of a project aimed at predicting P-glycoprotein substrates.\n",
    "To decrease the computational cost of the simulations, the system was simplified by truncating the cytosolic and extracellular domains and by using an implicit solvent to mimic the membrane environment. Explicit water molecule were, however, added to the binding cavity. Stochastic dynamics simulations were carried out at 300 K for 6 ns. Simulations were carried out in 5 replicas. "
   ]
  },
  {
   "cell_type": "markdown",
   "metadata": {},
   "source": [
    "## 2 Construct Protein-Ligand MDFPs for a single replica "
   ]
  },
  {
   "cell_type": "markdown",
   "metadata": {},
   "source": [
    "Import required libraries"
   ]
  },
  {
   "cell_type": "code",
   "execution_count": 1,
   "metadata": {},
   "outputs": [],
   "source": [
    "from Extractor_PLMDFP import *\n",
    "%matplotlib inline\n",
    "import matplotlib\n",
    "import matplotlib.pyplot as plt"
   ]
  },
  {
   "cell_type": "markdown",
   "metadata": {},
   "source": [
    "Read required input files: trajectory file (.xtc), coordinates file (.gro), and file containing energy terms (.xvg, see above)"
   ]
  },
  {
   "cell_type": "code",
   "execution_count": 2,
   "metadata": {},
   "outputs": [],
   "source": [
    "cmpd_name = 'CHEMBL7568'\n",
    "traj_file = 'ex4_PL_MDFPs/nvt1_frict4_complex_{}_pH7_netcharge_out1.xtc'.format(cmpd_name)\n",
    "energy_file = 'ex4_PL_MDFPs/nvt_frict4_ana_complex_{}_pH7_netcharge_out1.xvg'.format(cmpd_name)\n",
    "coord_file = 'ex4_PL_MDFPs/{}_pH7_netcharge.gro'.format(cmpd_name)"
   ]
  },
  {
   "cell_type": "markdown",
   "metadata": {},
   "source": [
    "Read in energy terms and plot the time series:"
   ]
  },
  {
   "cell_type": "code",
   "execution_count": 3,
   "metadata": {},
   "outputs": [
    {
     "data": {
      "text/html": [
       "<div>\n",
       "<style scoped>\n",
       "    .dataframe tbody tr th:only-of-type {\n",
       "        vertical-align: middle;\n",
       "    }\n",
       "\n",
       "    .dataframe tbody tr th {\n",
       "        vertical-align: top;\n",
       "    }\n",
       "\n",
       "    .dataframe thead th {\n",
       "        text-align: right;\n",
       "    }\n",
       "</style>\n",
       "<table border=\"1\" class=\"dataframe\">\n",
       "  <thead>\n",
       "    <tr style=\"text-align: right;\">\n",
       "      <th></th>\n",
       "      <th>time</th>\n",
       "      <th>Coul-SR:Water-LIG</th>\n",
       "      <th>LJ-SR:Water-LIG</th>\n",
       "      <th>Coul-14:Water-LIG</th>\n",
       "      <th>LJ-14:Water-LIG</th>\n",
       "      <th>Coul-SR:LIG-LIG</th>\n",
       "      <th>LJ-SR:LIG-LIG</th>\n",
       "      <th>Coul-14:LIG-LIG</th>\n",
       "      <th>LJ-14:LIG-LIG</th>\n",
       "      <th>Coul-SR:LIG-Protein</th>\n",
       "      <th>LJ-SR:LIG-Protein</th>\n",
       "      <th>Coul-14:LIG-Protein</th>\n",
       "      <th>LJ-14:LIG-Protein</th>\n",
       "    </tr>\n",
       "  </thead>\n",
       "  <tbody>\n",
       "    <tr>\n",
       "      <th>0</th>\n",
       "      <td>0.0</td>\n",
       "      <td>2.007488</td>\n",
       "      <td>-1.597029</td>\n",
       "      <td>0.0</td>\n",
       "      <td>0.0</td>\n",
       "      <td>-45.567692</td>\n",
       "      <td>-6.299019</td>\n",
       "      <td>72.543045</td>\n",
       "      <td>66.968025</td>\n",
       "      <td>35.632534</td>\n",
       "      <td>-167.007355</td>\n",
       "      <td>0.0</td>\n",
       "      <td>0.0</td>\n",
       "    </tr>\n",
       "    <tr>\n",
       "      <th>1</th>\n",
       "      <td>2.0</td>\n",
       "      <td>-61.078720</td>\n",
       "      <td>-0.331545</td>\n",
       "      <td>0.0</td>\n",
       "      <td>0.0</td>\n",
       "      <td>-74.069496</td>\n",
       "      <td>-24.153023</td>\n",
       "      <td>79.346390</td>\n",
       "      <td>56.661655</td>\n",
       "      <td>-120.960983</td>\n",
       "      <td>-152.872711</td>\n",
       "      <td>0.0</td>\n",
       "      <td>0.0</td>\n",
       "    </tr>\n",
       "    <tr>\n",
       "      <th>2</th>\n",
       "      <td>4.0</td>\n",
       "      <td>-64.242950</td>\n",
       "      <td>-8.786523</td>\n",
       "      <td>0.0</td>\n",
       "      <td>0.0</td>\n",
       "      <td>-139.760529</td>\n",
       "      <td>-30.034159</td>\n",
       "      <td>75.236519</td>\n",
       "      <td>64.062714</td>\n",
       "      <td>-87.207458</td>\n",
       "      <td>-155.718079</td>\n",
       "      <td>0.0</td>\n",
       "      <td>0.0</td>\n",
       "    </tr>\n",
       "    <tr>\n",
       "      <th>3</th>\n",
       "      <td>6.0</td>\n",
       "      <td>-98.186920</td>\n",
       "      <td>-10.033812</td>\n",
       "      <td>0.0</td>\n",
       "      <td>0.0</td>\n",
       "      <td>-111.678307</td>\n",
       "      <td>-28.897713</td>\n",
       "      <td>81.030273</td>\n",
       "      <td>60.565495</td>\n",
       "      <td>-117.857925</td>\n",
       "      <td>-170.329117</td>\n",
       "      <td>0.0</td>\n",
       "      <td>0.0</td>\n",
       "    </tr>\n",
       "    <tr>\n",
       "      <th>4</th>\n",
       "      <td>8.0</td>\n",
       "      <td>-83.169022</td>\n",
       "      <td>-11.254222</td>\n",
       "      <td>0.0</td>\n",
       "      <td>0.0</td>\n",
       "      <td>-120.779465</td>\n",
       "      <td>-33.488495</td>\n",
       "      <td>78.480255</td>\n",
       "      <td>54.064140</td>\n",
       "      <td>-107.085869</td>\n",
       "      <td>-167.329681</td>\n",
       "      <td>0.0</td>\n",
       "      <td>0.0</td>\n",
       "    </tr>\n",
       "  </tbody>\n",
       "</table>\n",
       "</div>"
      ],
      "text/plain": [
       "   time  Coul-SR:Water-LIG  LJ-SR:Water-LIG  Coul-14:Water-LIG  \\\n",
       "0   0.0           2.007488        -1.597029                0.0   \n",
       "1   2.0         -61.078720        -0.331545                0.0   \n",
       "2   4.0         -64.242950        -8.786523                0.0   \n",
       "3   6.0         -98.186920       -10.033812                0.0   \n",
       "4   8.0         -83.169022       -11.254222                0.0   \n",
       "\n",
       "   LJ-14:Water-LIG  Coul-SR:LIG-LIG  LJ-SR:LIG-LIG  Coul-14:LIG-LIG  \\\n",
       "0              0.0       -45.567692      -6.299019        72.543045   \n",
       "1              0.0       -74.069496     -24.153023        79.346390   \n",
       "2              0.0      -139.760529     -30.034159        75.236519   \n",
       "3              0.0      -111.678307     -28.897713        81.030273   \n",
       "4              0.0      -120.779465     -33.488495        78.480255   \n",
       "\n",
       "   LJ-14:LIG-LIG  Coul-SR:LIG-Protein  LJ-SR:LIG-Protein  Coul-14:LIG-Protein  \\\n",
       "0      66.968025            35.632534        -167.007355                  0.0   \n",
       "1      56.661655          -120.960983        -152.872711                  0.0   \n",
       "2      64.062714           -87.207458        -155.718079                  0.0   \n",
       "3      60.565495          -117.857925        -170.329117                  0.0   \n",
       "4      54.064140          -107.085869        -167.329681                  0.0   \n",
       "\n",
       "   LJ-14:LIG-Protein  \n",
       "0                0.0  \n",
       "1                0.0  \n",
       "2                0.0  \n",
       "3                0.0  \n",
       "4                0.0  "
      ]
     },
     "execution_count": 3,
     "metadata": {},
     "output_type": "execute_result"
    }
   ],
   "source": [
    "df_ene = Extractor_PLMDFP.read_xvg(energy_file)\n",
    "df_ene.head()"
   ]
  },
  {
   "cell_type": "code",
   "execution_count": 4,
   "metadata": {},
   "outputs": [
    {
     "data": {
      "image/png": "[encoded data removed]",
      "text/plain": [
       "<Figure size 1440x936 with 12 Axes>"
      ]
     },
     "metadata": {
      "needs_background": "light"
     },
     "output_type": "display_data"
    }
   ],
   "source": [
    "fig, axes = plt.subplots(4,3, figsize=(20,13))\n",
    "for col1 in range(1, len(list(df_ene.columns))):\n",
    "    i = int(np.floor((col1-1)/3))\n",
    "    j = int((col1-1) - i*3)\n",
    "    axes[i,j].plot(df_ene[df_ene.columns[col1]], color = 'black')\n",
    "    axes[i,j].set_title(df_ene.columns[col1], fontsize = 14)\n",
    "    \n",
    "plt.subplots_adjust(hspace = 0.4)\n"
   ]
  },
  {
   "cell_type": "markdown",
   "metadata": {},
   "source": [
    "Exclude from the MDFP construction the initial 500 steps (1 ns) for equlibration:"
   ]
  },
  {
   "cell_type": "code",
   "execution_count": 5,
   "metadata": {},
   "outputs": [],
   "source": [
    "N_equil_steps = 500"
   ]
  },
  {
   "cell_type": "markdown",
   "metadata": {},
   "source": [
    "Initialize output dictionary in which to store MDFP terms"
   ]
  },
  {
   "cell_type": "code",
   "execution_count": 6,
   "metadata": {},
   "outputs": [],
   "source": [
    "Fingerprint = [] # initialize list of dictionaries. one for each compound\n",
    "Dict_Fingerprint = {} # initialize dictionary"
   ]
  },
  {
   "cell_type": "markdown",
   "metadata": {},
   "source": [
    "Add name of the compound to the dictionary"
   ]
  },
  {
   "cell_type": "code",
   "execution_count": 7,
   "metadata": {},
   "outputs": [],
   "source": [
    "Dict_Fingerprint.update({'cmpd_name': cmpd_name})"
   ]
  },
  {
   "cell_type": "markdown",
   "metadata": {},
   "source": [
    "Calculate Protein-Ligand energy terms:"
   ]
  },
  {
   "cell_type": "code",
   "execution_count": 8,
   "metadata": {},
   "outputs": [
    {
     "data": {
      "text/html": [
       "<div>\n",
       "<style scoped>\n",
       "    .dataframe tbody tr th:only-of-type {\n",
       "        vertical-align: middle;\n",
       "    }\n",
       "\n",
       "    .dataframe tbody tr th {\n",
       "        vertical-align: top;\n",
       "    }\n",
       "\n",
       "    .dataframe thead th {\n",
       "        text-align: right;\n",
       "    }\n",
       "</style>\n",
       "<table border=\"1\" class=\"dataframe\">\n",
       "  <thead>\n",
       "    <tr style=\"text-align: right;\">\n",
       "      <th></th>\n",
       "      <th>cmpd_name</th>\n",
       "      <th>intra_crf_pl_av</th>\n",
       "      <th>intra_crf_pl_std</th>\n",
       "      <th>intra_crf_pl_med</th>\n",
       "      <th>intra_lig_lj_pl_av</th>\n",
       "      <th>intra_lig_lj_pl_std</th>\n",
       "      <th>intra_lig_lj_pl_med</th>\n",
       "      <th>intra_ene_pl_av</th>\n",
       "      <th>intra_ene_pl_std</th>\n",
       "      <th>intra_ene_pl_med</th>\n",
       "      <th>...</th>\n",
       "      <th>tot_ene_pl_med</th>\n",
       "      <th>wat_lig_crf_pl_av</th>\n",
       "      <th>wat_lig_crf_pl_std</th>\n",
       "      <th>wat_lig_crf_pl_med</th>\n",
       "      <th>wat_lig_lj_pl_av</th>\n",
       "      <th>wat_lig_lj_pl_std</th>\n",
       "      <th>wat_lig_lj_pl_med</th>\n",
       "      <th>wat_lig_ene_pl_av</th>\n",
       "      <th>wat_lig_ene_pl_std</th>\n",
       "      <th>wat_lig_ene_pl_med</th>\n",
       "    </tr>\n",
       "  </thead>\n",
       "  <tbody>\n",
       "    <tr>\n",
       "      <th>0</th>\n",
       "      <td>CHEMBL7568</td>\n",
       "      <td>-108.811495</td>\n",
       "      <td>17.394809</td>\n",
       "      <td>-111.28405</td>\n",
       "      <td>22.328899</td>\n",
       "      <td>8.653008</td>\n",
       "      <td>21.722645</td>\n",
       "      <td>-86.482595</td>\n",
       "      <td>19.230652</td>\n",
       "      <td>-88.879646</td>\n",
       "      <td>...</td>\n",
       "      <td>-460.337352</td>\n",
       "      <td>-45.051827</td>\n",
       "      <td>8.24203</td>\n",
       "      <td>-44.492081</td>\n",
       "      <td>-5.489435</td>\n",
       "      <td>3.511677</td>\n",
       "      <td>-6.122062</td>\n",
       "      <td>-50.541262</td>\n",
       "      <td>8.311696</td>\n",
       "      <td>-50.129177</td>\n",
       "    </tr>\n",
       "  </tbody>\n",
       "</table>\n",
       "<p>1 rows × 37 columns</p>\n",
       "</div>"
      ],
      "text/plain": [
       "    cmpd_name  intra_crf_pl_av  intra_crf_pl_std  intra_crf_pl_med  \\\n",
       "0  CHEMBL7568      -108.811495         17.394809        -111.28405   \n",
       "\n",
       "   intra_lig_lj_pl_av  intra_lig_lj_pl_std  intra_lig_lj_pl_med  \\\n",
       "0           22.328899             8.653008            21.722645   \n",
       "\n",
       "   intra_ene_pl_av  intra_ene_pl_std  intra_ene_pl_med  ...  tot_ene_pl_med  \\\n",
       "0       -86.482595         19.230652        -88.879646  ...     -460.337352   \n",
       "\n",
       "   wat_lig_crf_pl_av  wat_lig_crf_pl_std  wat_lig_crf_pl_med  \\\n",
       "0         -45.051827             8.24203          -44.492081   \n",
       "\n",
       "   wat_lig_lj_pl_av  wat_lig_lj_pl_std  wat_lig_lj_pl_med  wat_lig_ene_pl_av  \\\n",
       "0         -5.489435           3.511677          -6.122062         -50.541262   \n",
       "\n",
       "   wat_lig_ene_pl_std  wat_lig_ene_pl_med  \n",
       "0            8.311696          -50.129177  \n",
       "\n",
       "[1 rows x 37 columns]"
      ]
     },
     "execution_count": 8,
     "metadata": {},
     "output_type": "execute_result"
    }
   ],
   "source": [
    "ene_prot_lig = Extractor_PLMDFP.extract_protein_ligang_energy_terms_single(xvg_file = energy_file, \\\n",
    "                                                                           N_equil = N_equil_steps, \\\n",
    "                                                                           solute_name = \"LIG\")\n",
    "Dict_Fingerprint.update(ene_prot_lig)\n",
    "pd.DataFrame([Dict_Fingerprint])"
   ]
  },
  {
   "cell_type": "markdown",
   "metadata": {},
   "source": [
    "Extract residue-ligand energy terms for three residues, res180, res145, and res255.\n",
    "If in the file name, the residue number is preceeded by the string \"res_\", then the function is able to guess the residue number, which is returned in the dictionary. Otherwise the residue number can be provided as input to the function (see help(Extractor_PLMDFP.extract_residue_ligand_energy_terms)).\n",
    "If the residue number cannot be guessed and is not provided as input, then the xvg file name is returned in the output dictionary."
   ]
  },
  {
   "cell_type": "code",
   "execution_count": 9,
   "metadata": {},
   "outputs": [
    {
     "data": {
      "text/plain": [
       "['ex4_PL_MDFPs/ene_res_180_lig_complex_CHEMBL7568_pH7_netcharge_out1.xvg',\n",
       " 'ex4_PL_MDFPs/ene_res_145_lig_complex_CHEMBL7568_pH7_netcharge_out1.xvg',\n",
       " 'ex4_PL_MDFPs/ene_res_255_lig_complex_CHEMBL7568_pH7_netcharge_out1.xvg']"
      ]
     },
     "execution_count": 9,
     "metadata": {},
     "output_type": "execute_result"
    }
   ],
   "source": [
    "xvg_files_res_lig = glob.glob('ex4_PL_MDFPs/ene_res*{}*out1.xvg'.format(cmpd_name))\n",
    "xvg_files_res_lig\n"
   ]
  },
  {
   "cell_type": "code",
   "execution_count": 10,
   "metadata": {},
   "outputs": [],
   "source": [
    "for f1 in xvg_files_res_lig:\n",
    "    dict_ene_res_lig = Extractor_PLMDFP.extract_residue_ligand_energy_terms(xvg_file = f1, N_equil = N_equil_steps)\n",
    "    Dict_Fingerprint.update(dict_ene_res_lig)\n",
    "    \n"
   ]
  },
  {
   "cell_type": "markdown",
   "metadata": {},
   "source": [
    "Check for example the energy terms computed for the last residue. You can see that the residue number was correctly guessed from the xvg file name."
   ]
  },
  {
   "cell_type": "code",
   "execution_count": 11,
   "metadata": {},
   "outputs": [
    {
     "name": "stdout",
     "output_type": "stream",
     "text": [
      "{'res255_crf_pl_av': -3.181179011995202, 'res255_crf_pl_std': 1.0433673463655366, 'res255_crf_pl_med': -3.1696400000000002, 'res255_lj_pl_av': -0.8180936093562574, 'res255_lj_pl_std': 0.13346867640601784, 'res255_lj_pl_med': -0.803507, 'res255_ene_pl_av': -3.9992726213514596, 'res255_ene_pl_std': 1.0685353518253782, 'res255_ene_pl_med': -3.9680400000000002}\n"
     ]
    }
   ],
   "source": [
    "print(dict_ene_res_lig)"
   ]
  },
  {
   "cell_type": "markdown",
   "metadata": {},
   "source": [
    "Calculate other proprieties (SASA, Rgyr, and RMSD) from the trajectory. The following commands assume that the system in the trajectory has been already recentered and aligned (see section 1.3):"
   ]
  },
  {
   "cell_type": "code",
   "execution_count": 12,
   "metadata": {},
   "outputs": [],
   "source": [
    "# The following steps are required to read in the trajectory and compute SASA, Rgyr, and RMSD (only std):\n",
    "# conver gro to pdb\n",
    "Extractor_PLMDFP.gro2pdb(coord_file)\n",
    "# the output pdb file will have the same name of the gro file\n",
    "pdb_file = os.path.splitext(coord_file)[0] + '.pdb'\n",
    "# load pdb and identify indices of solute atoms\n",
    "pdb = md.load(pdb_file)\n",
    "topology = pdb.topology\n",
    "solute_atoms = Extractor_PLMDFP.solute_solvent_split(topology, solute_residue_name='LIG')[0]\n",
    "# read in the trajectory but only for the solute. Protein and water molecules not loaded\n",
    "solute_traj = md.load(traj_file, top=pdb_file, atom_indices = solute_atoms)\n",
    "\n"
   ]
  },
  {
   "cell_type": "code",
   "execution_count": 13,
   "metadata": {},
   "outputs": [
    {
     "data": {
      "text/html": [
       "<div>\n",
       "<style scoped>\n",
       "    .dataframe tbody tr th:only-of-type {\n",
       "        vertical-align: middle;\n",
       "    }\n",
       "\n",
       "    .dataframe tbody tr th {\n",
       "        vertical-align: top;\n",
       "    }\n",
       "\n",
       "    .dataframe thead th {\n",
       "        text-align: right;\n",
       "    }\n",
       "</style>\n",
       "<table border=\"1\" class=\"dataframe\">\n",
       "  <thead>\n",
       "    <tr style=\"text-align: right;\">\n",
       "      <th></th>\n",
       "      <th>cmpd_name</th>\n",
       "      <th>intra_crf_pl_av</th>\n",
       "      <th>intra_crf_pl_std</th>\n",
       "      <th>intra_crf_pl_med</th>\n",
       "      <th>intra_lig_lj_pl_av</th>\n",
       "      <th>intra_lig_lj_pl_std</th>\n",
       "      <th>intra_lig_lj_pl_med</th>\n",
       "      <th>intra_ene_pl_av</th>\n",
       "      <th>intra_ene_pl_std</th>\n",
       "      <th>intra_ene_pl_med</th>\n",
       "      <th>...</th>\n",
       "      <th>res255_ene_pl_av</th>\n",
       "      <th>res255_ene_pl_std</th>\n",
       "      <th>res255_ene_pl_med</th>\n",
       "      <th>rgyr_pl_av</th>\n",
       "      <th>rgyr_pl_std</th>\n",
       "      <th>rgyr_pl_med</th>\n",
       "      <th>sasa_pl_av</th>\n",
       "      <th>sasa_pl_std</th>\n",
       "      <th>sasa_pl_med</th>\n",
       "      <th>rmsd_pl_std</th>\n",
       "    </tr>\n",
       "  </thead>\n",
       "  <tbody>\n",
       "    <tr>\n",
       "      <th>0</th>\n",
       "      <td>CHEMBL7568</td>\n",
       "      <td>-108.811495</td>\n",
       "      <td>17.394809</td>\n",
       "      <td>-111.28405</td>\n",
       "      <td>22.328899</td>\n",
       "      <td>8.653008</td>\n",
       "      <td>21.722645</td>\n",
       "      <td>-86.482595</td>\n",
       "      <td>19.230652</td>\n",
       "      <td>-88.879646</td>\n",
       "      <td>...</td>\n",
       "      <td>-3.999273</td>\n",
       "      <td>1.068535</td>\n",
       "      <td>-3.96804</td>\n",
       "      <td>0.428532</td>\n",
       "      <td>0.007532</td>\n",
       "      <td>0.428072</td>\n",
       "      <td>7.016097</td>\n",
       "      <td>0.120784</td>\n",
       "      <td>7.010949</td>\n",
       "      <td>0.014159</td>\n",
       "    </tr>\n",
       "  </tbody>\n",
       "</table>\n",
       "<p>1 rows × 71 columns</p>\n",
       "</div>"
      ],
      "text/plain": [
       "    cmpd_name  intra_crf_pl_av  intra_crf_pl_std  intra_crf_pl_med  \\\n",
       "0  CHEMBL7568      -108.811495         17.394809        -111.28405   \n",
       "\n",
       "   intra_lig_lj_pl_av  intra_lig_lj_pl_std  intra_lig_lj_pl_med  \\\n",
       "0           22.328899             8.653008            21.722645   \n",
       "\n",
       "   intra_ene_pl_av  intra_ene_pl_std  intra_ene_pl_med  ...  res255_ene_pl_av  \\\n",
       "0       -86.482595         19.230652        -88.879646  ...         -3.999273   \n",
       "\n",
       "   res255_ene_pl_std  res255_ene_pl_med  rgyr_pl_av  rgyr_pl_std  rgyr_pl_med  \\\n",
       "0           1.068535           -3.96804    0.428532     0.007532     0.428072   \n",
       "\n",
       "   sasa_pl_av  sasa_pl_std  sasa_pl_med  rmsd_pl_std  \n",
       "0    7.016097     0.120784     7.010949     0.014159  \n",
       "\n",
       "[1 rows x 71 columns]"
      ]
     },
     "execution_count": 13,
     "metadata": {},
     "output_type": "execute_result"
    }
   ],
   "source": [
    "# Compute SASA, Rgyr, and RMSD and add the terms to the output dictionary\n",
    "Dict_Fingerprint.update(Extractor_PLMDFP.extract_rgyr(solute_traj, N_equil = N_equil_steps))\n",
    "Dict_Fingerprint.update(Extractor_PLMDFP.extract_sasa(solute_traj, N_equil = N_equil_steps))\n",
    "Dict_Fingerprint.update(Extractor_PLMDFP.extract_rmsd(solute_traj, N_equil = N_equil_steps))\n",
    "pd.DataFrame([Dict_Fingerprint])"
   ]
  },
  {
   "cell_type": "markdown",
   "metadata": {},
   "source": [
    "Append dictionary containing all the extracted terms to a list and convert the list to a data frame. "
   ]
  },
  {
   "cell_type": "code",
   "execution_count": 14,
   "metadata": {},
   "outputs": [
    {
     "data": {
      "text/html": [
       "<div>\n",
       "<style scoped>\n",
       "    .dataframe tbody tr th:only-of-type {\n",
       "        vertical-align: middle;\n",
       "    }\n",
       "\n",
       "    .dataframe tbody tr th {\n",
       "        vertical-align: top;\n",
       "    }\n",
       "\n",
       "    .dataframe thead th {\n",
       "        text-align: right;\n",
       "    }\n",
       "</style>\n",
       "<table border=\"1\" class=\"dataframe\">\n",
       "  <thead>\n",
       "    <tr style=\"text-align: right;\">\n",
       "      <th></th>\n",
       "      <th>cmpd_name</th>\n",
       "      <th>intra_crf_pl_av</th>\n",
       "      <th>intra_crf_pl_std</th>\n",
       "      <th>intra_crf_pl_med</th>\n",
       "      <th>intra_lig_lj_pl_av</th>\n",
       "      <th>intra_lig_lj_pl_std</th>\n",
       "      <th>intra_lig_lj_pl_med</th>\n",
       "      <th>intra_ene_pl_av</th>\n",
       "      <th>intra_ene_pl_std</th>\n",
       "      <th>intra_ene_pl_med</th>\n",
       "      <th>...</th>\n",
       "      <th>res255_ene_pl_av</th>\n",
       "      <th>res255_ene_pl_std</th>\n",
       "      <th>res255_ene_pl_med</th>\n",
       "      <th>rgyr_pl_av</th>\n",
       "      <th>rgyr_pl_std</th>\n",
       "      <th>rgyr_pl_med</th>\n",
       "      <th>sasa_pl_av</th>\n",
       "      <th>sasa_pl_std</th>\n",
       "      <th>sasa_pl_med</th>\n",
       "      <th>rmsd_pl_std</th>\n",
       "    </tr>\n",
       "  </thead>\n",
       "  <tbody>\n",
       "    <tr>\n",
       "      <th>0</th>\n",
       "      <td>CHEMBL7568</td>\n",
       "      <td>-108.811495</td>\n",
       "      <td>17.394809</td>\n",
       "      <td>-111.28405</td>\n",
       "      <td>22.328899</td>\n",
       "      <td>8.653008</td>\n",
       "      <td>21.722645</td>\n",
       "      <td>-86.482595</td>\n",
       "      <td>19.230652</td>\n",
       "      <td>-88.879646</td>\n",
       "      <td>...</td>\n",
       "      <td>-3.999273</td>\n",
       "      <td>1.068535</td>\n",
       "      <td>-3.96804</td>\n",
       "      <td>0.428532</td>\n",
       "      <td>0.007532</td>\n",
       "      <td>0.428072</td>\n",
       "      <td>7.016097</td>\n",
       "      <td>0.120784</td>\n",
       "      <td>7.010949</td>\n",
       "      <td>0.014159</td>\n",
       "    </tr>\n",
       "  </tbody>\n",
       "</table>\n",
       "<p>1 rows × 71 columns</p>\n",
       "</div>"
      ],
      "text/plain": [
       "    cmpd_name  intra_crf_pl_av  intra_crf_pl_std  intra_crf_pl_med  \\\n",
       "0  CHEMBL7568      -108.811495         17.394809        -111.28405   \n",
       "\n",
       "   intra_lig_lj_pl_av  intra_lig_lj_pl_std  intra_lig_lj_pl_med  \\\n",
       "0           22.328899             8.653008            21.722645   \n",
       "\n",
       "   intra_ene_pl_av  intra_ene_pl_std  intra_ene_pl_med  ...  res255_ene_pl_av  \\\n",
       "0       -86.482595         19.230652        -88.879646  ...         -3.999273   \n",
       "\n",
       "   res255_ene_pl_std  res255_ene_pl_med  rgyr_pl_av  rgyr_pl_std  rgyr_pl_med  \\\n",
       "0           1.068535           -3.96804    0.428532     0.007532     0.428072   \n",
       "\n",
       "   sasa_pl_av  sasa_pl_std  sasa_pl_med  rmsd_pl_std  \n",
       "0    7.016097     0.120784     7.010949     0.014159  \n",
       "\n",
       "[1 rows x 71 columns]"
      ]
     },
     "execution_count": 14,
     "metadata": {},
     "output_type": "execute_result"
    }
   ],
   "source": [
    "Fingerprint.append(Dict_Fingerprint)\n",
    "pd.DataFrame(Fingerprint)"
   ]
  },
  {
   "cell_type": "markdown",
   "metadata": {},
   "source": [
    "This is useful if you want to loop over multiple compounds. To do that, the loop should look like this:"
   ]
  },
  {
   "cell_type": "code",
   "execution_count": 15,
   "metadata": {},
   "outputs": [],
   "source": [
    "N_equil_steps = 500\n",
    "list_cmpd_names = ['CHEMBL7568','CHEMBL605310']\n",
    "Fingerprint = [] # initialize list of dictionaries. one for each compound\n",
    "for cmpd_name in list_cmpd_names:\n",
    "    traj_file = 'ex4_PL_MDFPs/nvt1_frict4_complex_{}_pH7_netcharge_out1.xtc'.format(cmpd_name)\n",
    "    energy_file = 'ex4_PL_MDFPs/nvt_frict4_ana_complex_{}_pH7_netcharge_out1.xvg'.format(cmpd_name)\n",
    "    coord_file = 'ex4_PL_MDFPs/{}_pH7_netcharge.gro'.format(cmpd_name)    \n",
    "    Dict_Fingerprint = {} # initialize dictionary\n",
    "    Dict_Fingerprint.update({'cmpd_name': cmpd_name})\n",
    "    Dict_Fingerprint.update(Extractor_PLMDFP.extract_protein_ligang_energy_terms_single(xvg_file = energy_file, N_equil = N_equil_steps, solute_name = \"LIG\"))\n",
    "    xvg_files_res_lig = glob.glob('ex4_PL_MDFPs/ene_res*{}*out1.xvg'.format(cmpd_name))\n",
    "    for f1 in xvg_files_res_lig:\n",
    "        Dict_Fingerprint.update(Extractor_PLMDFP.extract_residue_ligand_energy_terms(xvg_file = f1, N_equil = N_equil_steps))\n",
    "    # read in the trajectory and compute additional properties using MDTraj functions\n",
    "    Extractor_PLMDFP.gro2pdb(coord_file)\n",
    "    pdb_file = os.path.splitext(coord_file)[0] + '.pdb'\n",
    "    pdb = md.load(pdb_file)\n",
    "    topology = pdb.topology\n",
    "    solute_atoms = Extractor_PLMDFP.solute_solvent_split(topology, solute_residue_name='LIG')[0]\n",
    "    solute_traj = md.load(traj_file, top=pdb_file, atom_indices = solute_atoms)\n",
    "    Dict_Fingerprint.update(Extractor_PLMDFP.extract_rgyr(solute_traj, N_equil = N_equil_steps))\n",
    "    Dict_Fingerprint.update(Extractor_PLMDFP.extract_sasa(solute_traj, N_equil = N_equil_steps))\n",
    "    Dict_Fingerprint.update(Extractor_PLMDFP.extract_rmsd(solute_traj, N_equil = N_equil_steps))\n",
    "    Fingerprint.append(Dict_Fingerprint)\n"
   ]
  },
  {
   "cell_type": "code",
   "execution_count": 16,
   "metadata": {},
   "outputs": [
    {
     "data": {
      "text/html": [
       "<div>\n",
       "<style scoped>\n",
       "    .dataframe tbody tr th:only-of-type {\n",
       "        vertical-align: middle;\n",
       "    }\n",
       "\n",
       "    .dataframe tbody tr th {\n",
       "        vertical-align: top;\n",
       "    }\n",
       "\n",
       "    .dataframe thead th {\n",
       "        text-align: right;\n",
       "    }\n",
       "</style>\n",
       "<table border=\"1\" class=\"dataframe\">\n",
       "  <thead>\n",
       "    <tr style=\"text-align: right;\">\n",
       "      <th></th>\n",
       "      <th>cmpd_name</th>\n",
       "      <th>intra_crf_pl_av</th>\n",
       "      <th>intra_crf_pl_std</th>\n",
       "      <th>intra_crf_pl_med</th>\n",
       "      <th>intra_lig_lj_pl_av</th>\n",
       "      <th>intra_lig_lj_pl_std</th>\n",
       "      <th>intra_lig_lj_pl_med</th>\n",
       "      <th>intra_ene_pl_av</th>\n",
       "      <th>intra_ene_pl_std</th>\n",
       "      <th>intra_ene_pl_med</th>\n",
       "      <th>...</th>\n",
       "      <th>res255_ene_pl_av</th>\n",
       "      <th>res255_ene_pl_std</th>\n",
       "      <th>res255_ene_pl_med</th>\n",
       "      <th>rgyr_pl_av</th>\n",
       "      <th>rgyr_pl_std</th>\n",
       "      <th>rgyr_pl_med</th>\n",
       "      <th>sasa_pl_av</th>\n",
       "      <th>sasa_pl_std</th>\n",
       "      <th>sasa_pl_med</th>\n",
       "      <th>rmsd_pl_std</th>\n",
       "    </tr>\n",
       "  </thead>\n",
       "  <tbody>\n",
       "    <tr>\n",
       "      <th>0</th>\n",
       "      <td>CHEMBL7568</td>\n",
       "      <td>-108.811495</td>\n",
       "      <td>17.394809</td>\n",
       "      <td>-111.284050</td>\n",
       "      <td>22.328899</td>\n",
       "      <td>8.653008</td>\n",
       "      <td>21.722645</td>\n",
       "      <td>-86.482595</td>\n",
       "      <td>19.230652</td>\n",
       "      <td>-88.879646</td>\n",
       "      <td>...</td>\n",
       "      <td>-3.999273</td>\n",
       "      <td>1.068535</td>\n",
       "      <td>-3.968040</td>\n",
       "      <td>0.428532</td>\n",
       "      <td>0.007532</td>\n",
       "      <td>0.428072</td>\n",
       "      <td>7.016097</td>\n",
       "      <td>0.120784</td>\n",
       "      <td>7.010949</td>\n",
       "      <td>0.014159</td>\n",
       "    </tr>\n",
       "    <tr>\n",
       "      <th>1</th>\n",
       "      <td>CHEMBL605310</td>\n",
       "      <td>11.594098</td>\n",
       "      <td>13.021279</td>\n",
       "      <td>14.215638</td>\n",
       "      <td>59.054797</td>\n",
       "      <td>10.191339</td>\n",
       "      <td>58.667179</td>\n",
       "      <td>70.648895</td>\n",
       "      <td>15.602179</td>\n",
       "      <td>72.010250</td>\n",
       "      <td>...</td>\n",
       "      <td>-6.039279</td>\n",
       "      <td>1.474989</td>\n",
       "      <td>-6.080509</td>\n",
       "      <td>0.405889</td>\n",
       "      <td>0.006746</td>\n",
       "      <td>0.405408</td>\n",
       "      <td>7.564301</td>\n",
       "      <td>0.122572</td>\n",
       "      <td>7.558150</td>\n",
       "      <td>0.025953</td>\n",
       "    </tr>\n",
       "  </tbody>\n",
       "</table>\n",
       "<p>2 rows × 71 columns</p>\n",
       "</div>"
      ],
      "text/plain": [
       "      cmpd_name  intra_crf_pl_av  intra_crf_pl_std  intra_crf_pl_med  \\\n",
       "0    CHEMBL7568      -108.811495         17.394809       -111.284050   \n",
       "1  CHEMBL605310        11.594098         13.021279         14.215638   \n",
       "\n",
       "   intra_lig_lj_pl_av  intra_lig_lj_pl_std  intra_lig_lj_pl_med  \\\n",
       "0           22.328899             8.653008            21.722645   \n",
       "1           59.054797            10.191339            58.667179   \n",
       "\n",
       "   intra_ene_pl_av  intra_ene_pl_std  intra_ene_pl_med  ...  res255_ene_pl_av  \\\n",
       "0       -86.482595         19.230652        -88.879646  ...         -3.999273   \n",
       "1        70.648895         15.602179         72.010250  ...         -6.039279   \n",
       "\n",
       "   res255_ene_pl_std  res255_ene_pl_med  rgyr_pl_av  rgyr_pl_std  rgyr_pl_med  \\\n",
       "0           1.068535          -3.968040    0.428532     0.007532     0.428072   \n",
       "1           1.474989          -6.080509    0.405889     0.006746     0.405408   \n",
       "\n",
       "   sasa_pl_av  sasa_pl_std  sasa_pl_med  rmsd_pl_std  \n",
       "0    7.016097     0.120784     7.010949     0.014159  \n",
       "1    7.564301     0.122572     7.558150     0.025953  \n",
       "\n",
       "[2 rows x 71 columns]"
      ]
     },
     "execution_count": 16,
     "metadata": {},
     "output_type": "execute_result"
    }
   ],
   "source": [
    "pd.DataFrame(Fingerprint)"
   ]
  },
  {
   "cell_type": "markdown",
   "metadata": {},
   "source": [
    "#### To Customize MDFPs at your own will, see also section 2 of Tutorial 2 \"Customize MDFPs\""
   ]
  },
  {
   "cell_type": "markdown",
   "metadata": {},
   "source": [
    "## 3 Construct Protein-Ligand MDFPs from Multiple Replicas"
   ]
  },
  {
   "cell_type": "markdown",
   "metadata": {},
   "source": [
    "To enhance sampling, trajectories are often run in multiple replicas. For example, for protein-ligand complexes for which the crystal structure is not available, multiple simulations can be strarted from different docking poses. As described above, in such senario, there are different possible ways to average the features extracted from the trajectories to compose the MDFPs:\n",
    "\n",
    "* Average the features over each of the replicas and include each term in the descriptor. \n",
    "* Average the features over all replicas.\n",
    "* Average the feautures only over the replica exhibiting the lowest average total potential energy.\n",
    "\n",
    "For the first approach, the functions described in the previous section can be used.\n",
    "Below, we are going to show the use of functions that follow the second and third approaches.\n",
    "\n"
   ]
  },
  {
   "cell_type": "markdown",
   "metadata": {},
   "source": [
    "First, let's compare the energy contributions computed from five different replicas"
   ]
  },
  {
   "cell_type": "code",
   "execution_count": 17,
   "metadata": {},
   "outputs": [
    {
     "data": {
      "text/plain": [
       "['ex4_PL_MDFPs/nvt_frict4_ana_complex_CHEMBL7568_pH7_netcharge_out1.xvg',\n",
       " 'ex4_PL_MDFPs/nvt_frict4_ana_complex_CHEMBL7568_pH7_netcharge_out2.xvg',\n",
       " 'ex4_PL_MDFPs/nvt_frict4_ana_complex_CHEMBL7568_pH7_netcharge_out3.xvg',\n",
       " 'ex4_PL_MDFPs/nvt_frict4_ana_complex_CHEMBL7568_pH7_netcharge_out4.xvg',\n",
       " 'ex4_PL_MDFPs/nvt_frict4_ana_complex_CHEMBL7568_pH7_netcharge_out5.xvg']"
      ]
     },
     "execution_count": 17,
     "metadata": {},
     "output_type": "execute_result"
    }
   ],
   "source": [
    "cmpd_name = 'CHEMBL7568'\n",
    "energy_files = glob.glob('ex4_PL_MDFPs/nvt_frict4_ana_complex_{}_pH7_netcharge_out*.xvg'.format(cmpd_name))\n",
    "energy_files\n",
    "\n",
    "    "
   ]
  },
  {
   "cell_type": "code",
   "execution_count": 18,
   "metadata": {},
   "outputs": [],
   "source": [
    "# read in energy files \n",
    "list_df_ene = []\n",
    "for ene1 in energy_files:\n",
    "    list_df_ene.append(Extractor_PLMDFP.read_xvg(ene1))\n",
    "    "
   ]
  },
  {
   "cell_type": "code",
   "execution_count": 19,
   "metadata": {},
   "outputs": [
    {
     "data": {
      "image/png": "[encoded data removed]",
      "text/plain": [
       "<Figure size 1440x1728 with 12 Axes>"
      ]
     },
     "metadata": {
      "needs_background": "light"
     },
     "output_type": "display_data"
    }
   ],
   "source": [
    "# plot time series for each of the replicas:\n",
    "# Different replicas are shown in differnt colors.\n",
    "\n",
    "fig, axes = plt.subplots(4, 3, figsize=(20, 24))\n",
    "N_replicas = len(energy_files)\n",
    "colors = plt.cm.Dark2_r(np.linspace(0,1,N_replicas))\n",
    "\n",
    "for rep1 in range(N_replicas):\n",
    "    df2 = list_df_ene[rep1]\n",
    "    for col1 in range(1, len(list(df2.columns))):\n",
    "        i = int(np.floor((col1-1)/3))\n",
    "        j = int((col1-1) - i*3)\n",
    "        x_axis = list(range(0 + len(list(df2.index))*rep1, len(list(df2.index))*(rep1+1)))\n",
    "        axes[i, j].plot(x_axis, df2[df2.columns[col1]], color = colors[rep1])\n",
    "        #axes[i, j].set_title(df2.columns[col1],fontsize=20)\n",
    "        axes[i, j].set_ylabel(\"\", fontsize=16)\n",
    "        if i != 4:\n",
    "            axes[i, j].set_xlabel(\"\", fontsize=16)\n",
    "        else:\n",
    "            axes[i, j].set_xlabel(\"replicas\", fontsize=20)\n",
    "        axes[i,j].set_title(df2.columns[col1], fontsize = 14)\n",
    "        plt.setp(axes[i, j].get_xticklabels(), rotation=0, fontsize = 16)\n",
    "        plt.setp(axes[i, j].get_yticklabels(), rotation=0, fontsize = 16)\n",
    "        axes[i, j].tick_params(labelsize = 16)\n",
    "\n",
    "plt.subplots_adjust(hspace = 0.3) "
   ]
  },
  {
   "cell_type": "markdown",
   "metadata": {},
   "source": [
    "Different replicas have different energy profiles. This may result from the ligand exploring different binding modes. Again, one could consider the replica with the minimum total energy as the most likely and average the features over that replica only. Or one may consider all binding modes as probable and average the features over all replicas."
   ]
  },
  {
   "cell_type": "markdown",
   "metadata": {},
   "source": [
    "### Initialize output variables"
   ]
  },
  {
   "cell_type": "code",
   "execution_count": 20,
   "metadata": {},
   "outputs": [],
   "source": [
    "Fingerprint = [] # initialize list of dictionaries. one for each compound\n",
    "Dict_Fingerprint = {} # initialize dictionary"
   ]
  },
  {
   "cell_type": "markdown",
   "metadata": {},
   "source": [
    "Add name of the compound to the dictionary"
   ]
  },
  {
   "cell_type": "code",
   "execution_count": 21,
   "metadata": {},
   "outputs": [],
   "source": [
    "Dict_Fingerprint.update({'cmpd_name': cmpd_name})"
   ]
  },
  {
   "cell_type": "markdown",
   "metadata": {},
   "source": [
    "### Compute protein-ligand energy terms\n",
    "\n",
    "For each of the energy terms composing the MDFP, compute the mean, standard deviation, and median over all replicas (<i>_all\\_replicas</i>) and over the replica with the lowest average total potential energy (<i>_min_replica</i>). Return also the name of the replica with the lowest total energy. "
   ]
  },
  {
   "cell_type": "code",
   "execution_count": 22,
   "metadata": {},
   "outputs": [],
   "source": [
    "N_equil_steps = 500 # as done in the previous section\n",
    "\n",
    "ene_prot_lig, min_pose = Extractor_PLMDFP.extract_min_and_mean_protein_ligang_energy(energy_files, \\\n",
    "                                                                                     N_equil = N_equil_steps, \\\n",
    "                                                                                     return_min_filename = True)\n",
    "Dict_Fingerprint.update(ene_prot_lig)"
   ]
  },
  {
   "cell_type": "code",
   "execution_count": 23,
   "metadata": {},
   "outputs": [
    {
     "data": {
      "text/html": [
       "<div>\n",
       "<style scoped>\n",
       "    .dataframe tbody tr th:only-of-type {\n",
       "        vertical-align: middle;\n",
       "    }\n",
       "\n",
       "    .dataframe tbody tr th {\n",
       "        vertical-align: top;\n",
       "    }\n",
       "\n",
       "    .dataframe thead th {\n",
       "        text-align: right;\n",
       "    }\n",
       "</style>\n",
       "<table border=\"1\" class=\"dataframe\">\n",
       "  <thead>\n",
       "    <tr style=\"text-align: right;\">\n",
       "      <th></th>\n",
       "      <th>intra_crf_pl_av_all_replicas</th>\n",
       "      <th>intra_crf_pl_std_all_replicas</th>\n",
       "      <th>intra_crf_pl_med_all_replicas</th>\n",
       "      <th>intra_lig_lj_pl_av_all_replicas</th>\n",
       "      <th>intra_lig_lj_pl_std_all_replicas</th>\n",
       "      <th>intra_lig_lj_pl_med_all_replicas</th>\n",
       "      <th>intra_ene_pl_av_all_replicas</th>\n",
       "      <th>intra_ene_pl_std_all_replicas</th>\n",
       "      <th>intra_ene_pl_med_all_replicas</th>\n",
       "      <th>prot_lig_crf_pl_av_all_replicas</th>\n",
       "      <th>...</th>\n",
       "      <th>tot_ene_pl_med_min_replica</th>\n",
       "      <th>wat_lig_crf_pl_av_min_replica</th>\n",
       "      <th>wat_lig_crf_pl_std_min_replica</th>\n",
       "      <th>wat_lig_crf_pl_med_min_replica</th>\n",
       "      <th>wat_lig_lj_pl_av_min_replica</th>\n",
       "      <th>wat_lig_lj_pl_std_min_replica</th>\n",
       "      <th>wat_lig_lj_pl_med_min_replica</th>\n",
       "      <th>wat_lig_ene_pl_av_min_replica</th>\n",
       "      <th>wat_lig_ene_pl_std_min_replica</th>\n",
       "      <th>wat_lig_ene_pl_med_min_replica</th>\n",
       "    </tr>\n",
       "  </thead>\n",
       "  <tbody>\n",
       "    <tr>\n",
       "      <th>0</th>\n",
       "      <td>-120.410567</td>\n",
       "      <td>19.75553</td>\n",
       "      <td>-122.479698</td>\n",
       "      <td>22.160995</td>\n",
       "      <td>9.388944</td>\n",
       "      <td>21.568603</td>\n",
       "      <td>-98.249572</td>\n",
       "      <td>21.223545</td>\n",
       "      <td>-100.651154</td>\n",
       "      <td>-122.094259</td>\n",
       "      <td>...</td>\n",
       "      <td>-460.337352</td>\n",
       "      <td>-45.051827</td>\n",
       "      <td>8.24203</td>\n",
       "      <td>-44.492081</td>\n",
       "      <td>-5.489435</td>\n",
       "      <td>3.511677</td>\n",
       "      <td>-6.122062</td>\n",
       "      <td>-50.541262</td>\n",
       "      <td>8.311696</td>\n",
       "      <td>-50.129177</td>\n",
       "    </tr>\n",
       "  </tbody>\n",
       "</table>\n",
       "<p>1 rows × 72 columns</p>\n",
       "</div>"
      ],
      "text/plain": [
       "   intra_crf_pl_av_all_replicas  intra_crf_pl_std_all_replicas  \\\n",
       "0                   -120.410567                       19.75553   \n",
       "\n",
       "   intra_crf_pl_med_all_replicas  intra_lig_lj_pl_av_all_replicas  \\\n",
       "0                    -122.479698                        22.160995   \n",
       "\n",
       "   intra_lig_lj_pl_std_all_replicas  intra_lig_lj_pl_med_all_replicas  \\\n",
       "0                          9.388944                         21.568603   \n",
       "\n",
       "   intra_ene_pl_av_all_replicas  intra_ene_pl_std_all_replicas  \\\n",
       "0                    -98.249572                      21.223545   \n",
       "\n",
       "   intra_ene_pl_med_all_replicas  prot_lig_crf_pl_av_all_replicas  ...  \\\n",
       "0                    -100.651154                      -122.094259  ...   \n",
       "\n",
       "   tot_ene_pl_med_min_replica  wat_lig_crf_pl_av_min_replica  \\\n",
       "0                 -460.337352                     -45.051827   \n",
       "\n",
       "   wat_lig_crf_pl_std_min_replica  wat_lig_crf_pl_med_min_replica  \\\n",
       "0                         8.24203                      -44.492081   \n",
       "\n",
       "   wat_lig_lj_pl_av_min_replica  wat_lig_lj_pl_std_min_replica  \\\n",
       "0                     -5.489435                       3.511677   \n",
       "\n",
       "   wat_lig_lj_pl_med_min_replica  wat_lig_ene_pl_av_min_replica  \\\n",
       "0                      -6.122062                     -50.541262   \n",
       "\n",
       "   wat_lig_ene_pl_std_min_replica  wat_lig_ene_pl_med_min_replica  \n",
       "0                        8.311696                      -50.129177  \n",
       "\n",
       "[1 rows x 72 columns]"
      ]
     },
     "execution_count": 23,
     "metadata": {},
     "output_type": "execute_result"
    }
   ],
   "source": [
    "pd.DataFrame([ene_prot_lig])"
   ]
  },
  {
   "cell_type": "markdown",
   "metadata": {},
   "source": [
    "The replica with the minimum total energy is: "
   ]
  },
  {
   "cell_type": "code",
   "execution_count": 24,
   "metadata": {},
   "outputs": [
    {
     "data": {
      "text/plain": [
       "'ex4_PL_MDFPs/nvt_frict4_ana_complex_CHEMBL7568_pH7_netcharge_out1.xvg'"
      ]
     },
     "execution_count": 24,
     "metadata": {},
     "output_type": "execute_result"
    }
   ],
   "source": [
    "min_pose"
   ]
  },
  {
   "cell_type": "markdown",
   "metadata": {},
   "source": [
    "### Compute residue-ligand energy terms\n",
    "\n"
   ]
  },
  {
   "cell_type": "code",
   "execution_count": 25,
   "metadata": {},
   "outputs": [],
   "source": [
    "xvg_files_res_lig = glob.glob('ex4_PL_MDFPs/ene_res*{}*out*.xvg'.format(cmpd_name))\n",
    "residues_list = [180, 145, 255]"
   ]
  },
  {
   "cell_type": "code",
   "execution_count": 26,
   "metadata": {},
   "outputs": [
    {
     "data": {
      "text/html": [
       "<div>\n",
       "<style scoped>\n",
       "    .dataframe tbody tr th:only-of-type {\n",
       "        vertical-align: middle;\n",
       "    }\n",
       "\n",
       "    .dataframe tbody tr th {\n",
       "        vertical-align: top;\n",
       "    }\n",
       "\n",
       "    .dataframe thead th {\n",
       "        text-align: right;\n",
       "    }\n",
       "</style>\n",
       "<table border=\"1\" class=\"dataframe\">\n",
       "  <thead>\n",
       "    <tr style=\"text-align: right;\">\n",
       "      <th></th>\n",
       "      <th>res180_crf_pl_av_0</th>\n",
       "      <th>res180_crf_pl_std_0</th>\n",
       "      <th>res180_crf_pl_med_0</th>\n",
       "      <th>res180_lj_pl_av_0</th>\n",
       "      <th>res180_lj_pl_std_0</th>\n",
       "      <th>res180_lj_pl_med_0</th>\n",
       "      <th>res180_ene_pl_av_0</th>\n",
       "      <th>res180_ene_pl_std_0</th>\n",
       "      <th>res180_ene_pl_med_0</th>\n",
       "      <th>res180_crf_pl_av_1</th>\n",
       "      <th>...</th>\n",
       "      <th>res255_ene_pl_med_4</th>\n",
       "      <th>res255_crf_pl_av_all_replicas</th>\n",
       "      <th>res255_crf_pl_std_all_replicas</th>\n",
       "      <th>res255_crf_pl_med_all_replicas</th>\n",
       "      <th>res255_lj_pl_av_all_replicas</th>\n",
       "      <th>res255_lj_pl_std_all_replicas</th>\n",
       "      <th>res255_lj_pl_med_all_replicas</th>\n",
       "      <th>res255_ene_pl_av_all_replicas</th>\n",
       "      <th>res255_ene_pl_std_all_replicas</th>\n",
       "      <th>res255_ene_pl_med_all_replicas</th>\n",
       "    </tr>\n",
       "  </thead>\n",
       "  <tbody>\n",
       "    <tr>\n",
       "      <th>0</th>\n",
       "      <td>-0.770735</td>\n",
       "      <td>0.433269</td>\n",
       "      <td>-0.728534</td>\n",
       "      <td>-0.546204</td>\n",
       "      <td>0.137922</td>\n",
       "      <td>-0.531431</td>\n",
       "      <td>-1.316938</td>\n",
       "      <td>0.493706</td>\n",
       "      <td>-1.255295</td>\n",
       "      <td>0.144033</td>\n",
       "      <td>...</td>\n",
       "      <td>-0.335978</td>\n",
       "      <td>-0.351077</td>\n",
       "      <td>1.683153</td>\n",
       "      <td>0.189792</td>\n",
       "      <td>-0.310871</td>\n",
       "      <td>0.269436</td>\n",
       "      <td>-0.196048</td>\n",
       "      <td>-0.661948</td>\n",
       "      <td>1.911654</td>\n",
       "      <td>0.027672</td>\n",
       "    </tr>\n",
       "  </tbody>\n",
       "</table>\n",
       "<p>1 rows × 162 columns</p>\n",
       "</div>"
      ],
      "text/plain": [
       "   res180_crf_pl_av_0  res180_crf_pl_std_0  res180_crf_pl_med_0  \\\n",
       "0           -0.770735             0.433269            -0.728534   \n",
       "\n",
       "   res180_lj_pl_av_0  res180_lj_pl_std_0  res180_lj_pl_med_0  \\\n",
       "0          -0.546204            0.137922           -0.531431   \n",
       "\n",
       "   res180_ene_pl_av_0  res180_ene_pl_std_0  res180_ene_pl_med_0  \\\n",
       "0           -1.316938             0.493706            -1.255295   \n",
       "\n",
       "   res180_crf_pl_av_1  ...  res255_ene_pl_med_4  \\\n",
       "0            0.144033  ...            -0.335978   \n",
       "\n",
       "   res255_crf_pl_av_all_replicas  res255_crf_pl_std_all_replicas  \\\n",
       "0                      -0.351077                        1.683153   \n",
       "\n",
       "   res255_crf_pl_med_all_replicas  res255_lj_pl_av_all_replicas  \\\n",
       "0                        0.189792                     -0.310871   \n",
       "\n",
       "   res255_lj_pl_std_all_replicas  res255_lj_pl_med_all_replicas  \\\n",
       "0                       0.269436                      -0.196048   \n",
       "\n",
       "   res255_ene_pl_av_all_replicas  res255_ene_pl_std_all_replicas  \\\n",
       "0                      -0.661948                        1.911654   \n",
       "\n",
       "   res255_ene_pl_med_all_replicas  \n",
       "0                        0.027672  \n",
       "\n",
       "[1 rows x 162 columns]"
      ]
     },
     "execution_count": 26,
     "metadata": {},
     "output_type": "execute_result"
    }
   ],
   "source": [
    "ene_res_lig = Extractor_PLMDFP.extract_residue_ligand_energy_terms_multi_supplier(xvg_files_res_lig, \\\n",
    "                                                                                  list_residue_numbers = residues_list, \\\n",
    "                                                                                  N_equil = N_equil_steps)\n",
    "pd.DataFrame([ene_res_lig])"
   ]
  },
  {
   "cell_type": "markdown",
   "metadata": {},
   "source": [
    "The function above returns the averages over each replica and the averages over all replicas. \n",
    "To construct the MDFP, only the averages over all replicas are required. Therefore, only the features labelled as <i>\"_all_replicas\"</i> are added to the output dictionary (Dict_Fingerprint)"
   ]
  },
  {
   "cell_type": "code",
   "execution_count": 27,
   "metadata": {},
   "outputs": [],
   "source": [
    "ene_res_lig2 = {k: ene_res_lig[k] for k in ene_res_lig.keys() if 'all_replicas' in k}\n",
    "Dict_Fingerprint.update(ene_res_lig2)"
   ]
  },
  {
   "cell_type": "markdown",
   "metadata": {},
   "source": [
    "Average the residue-ligand energy terms only over the replica with the minimum total potential energy:"
   ]
  },
  {
   "cell_type": "code",
   "execution_count": 28,
   "metadata": {},
   "outputs": [],
   "source": [
    "ene_res_lig_min = {k: ene_res_lig[k] for k in ene_res_lig.keys() if '_1' in k}\n",
    "ene_res_lig_min = {k.replace('_1','')+'_min_replica': v for k, v in ene_res_lig_min.items()}"
   ]
  },
  {
   "cell_type": "markdown",
   "metadata": {},
   "source": [
    "or, alternatively:"
   ]
  },
  {
   "cell_type": "code",
   "execution_count": 29,
   "metadata": {},
   "outputs": [
    {
     "data": {
      "text/plain": [
       "['ex4_PL_MDFPs/ene_res_145_lig_complex_CHEMBL7568_pH7_netcharge_out1.xvg',\n",
       " 'ex4_PL_MDFPs/ene_res_180_lig_complex_CHEMBL7568_pH7_netcharge_out1.xvg',\n",
       " 'ex4_PL_MDFPs/ene_res_255_lig_complex_CHEMBL7568_pH7_netcharge_out1.xvg']"
      ]
     },
     "execution_count": 29,
     "metadata": {},
     "output_type": "execute_result"
    }
   ],
   "source": [
    "min_pose_number = os.path.basename(min_pose).split(\".\")[0].split(\"_\")[-1] # this depends on the xvg file names.\n",
    "xvg_files_res_lig_min = [x for x in xvg_files_res_lig if min_pose_number in x]\n",
    "xvg_files_res_lig_min"
   ]
  },
  {
   "cell_type": "code",
   "execution_count": 30,
   "metadata": {},
   "outputs": [],
   "source": [
    "ene_res_lig_min = Extractor_PLMDFP.extract_residue_ligand_energy_terms_multi_supplier(xvg_files_res_lig_min, \\\n",
    "                                                                                      list_residue_numbers = residues_list, \\\n",
    "                                                                                      N_equil = N_equil_steps)\n",
    "ene_res_lig_min = {k+'_min_replica': v for k, v in ene_res_lig_min.items()}"
   ]
  },
  {
   "cell_type": "code",
   "execution_count": 31,
   "metadata": {},
   "outputs": [
    {
     "data": {
      "text/html": [
       "<div>\n",
       "<style scoped>\n",
       "    .dataframe tbody tr th:only-of-type {\n",
       "        vertical-align: middle;\n",
       "    }\n",
       "\n",
       "    .dataframe tbody tr th {\n",
       "        vertical-align: top;\n",
       "    }\n",
       "\n",
       "    .dataframe thead th {\n",
       "        text-align: right;\n",
       "    }\n",
       "</style>\n",
       "<table border=\"1\" class=\"dataframe\">\n",
       "  <thead>\n",
       "    <tr style=\"text-align: right;\">\n",
       "      <th></th>\n",
       "      <th>res180_crf_pl_av_min_replica</th>\n",
       "      <th>res180_crf_pl_std_min_replica</th>\n",
       "      <th>res180_crf_pl_med_min_replica</th>\n",
       "      <th>res180_lj_pl_av_min_replica</th>\n",
       "      <th>res180_lj_pl_std_min_replica</th>\n",
       "      <th>res180_lj_pl_med_min_replica</th>\n",
       "      <th>res180_ene_pl_av_min_replica</th>\n",
       "      <th>res180_ene_pl_std_min_replica</th>\n",
       "      <th>res180_ene_pl_med_min_replica</th>\n",
       "      <th>res145_crf_pl_av_min_replica</th>\n",
       "      <th>...</th>\n",
       "      <th>res145_ene_pl_med_min_replica</th>\n",
       "      <th>res255_crf_pl_av_min_replica</th>\n",
       "      <th>res255_crf_pl_std_min_replica</th>\n",
       "      <th>res255_crf_pl_med_min_replica</th>\n",
       "      <th>res255_lj_pl_av_min_replica</th>\n",
       "      <th>res255_lj_pl_std_min_replica</th>\n",
       "      <th>res255_lj_pl_med_min_replica</th>\n",
       "      <th>res255_ene_pl_av_min_replica</th>\n",
       "      <th>res255_ene_pl_std_min_replica</th>\n",
       "      <th>res255_ene_pl_med_min_replica</th>\n",
       "    </tr>\n",
       "  </thead>\n",
       "  <tbody>\n",
       "    <tr>\n",
       "      <th>0</th>\n",
       "      <td>-0.770735</td>\n",
       "      <td>0.433269</td>\n",
       "      <td>-0.728534</td>\n",
       "      <td>-0.546204</td>\n",
       "      <td>0.137922</td>\n",
       "      <td>-0.531431</td>\n",
       "      <td>-1.316938</td>\n",
       "      <td>0.493706</td>\n",
       "      <td>-1.255295</td>\n",
       "      <td>4.679821</td>\n",
       "      <td>...</td>\n",
       "      <td>-3.120721</td>\n",
       "      <td>-3.181179</td>\n",
       "      <td>1.043367</td>\n",
       "      <td>-3.16964</td>\n",
       "      <td>-0.818094</td>\n",
       "      <td>0.133469</td>\n",
       "      <td>-0.803507</td>\n",
       "      <td>-3.999273</td>\n",
       "      <td>1.068535</td>\n",
       "      <td>-3.96804</td>\n",
       "    </tr>\n",
       "  </tbody>\n",
       "</table>\n",
       "<p>1 rows × 27 columns</p>\n",
       "</div>"
      ],
      "text/plain": [
       "   res180_crf_pl_av_min_replica  res180_crf_pl_std_min_replica  \\\n",
       "0                     -0.770735                       0.433269   \n",
       "\n",
       "   res180_crf_pl_med_min_replica  res180_lj_pl_av_min_replica  \\\n",
       "0                      -0.728534                    -0.546204   \n",
       "\n",
       "   res180_lj_pl_std_min_replica  res180_lj_pl_med_min_replica  \\\n",
       "0                      0.137922                     -0.531431   \n",
       "\n",
       "   res180_ene_pl_av_min_replica  res180_ene_pl_std_min_replica  \\\n",
       "0                     -1.316938                       0.493706   \n",
       "\n",
       "   res180_ene_pl_med_min_replica  res145_crf_pl_av_min_replica  ...  \\\n",
       "0                      -1.255295                      4.679821  ...   \n",
       "\n",
       "   res145_ene_pl_med_min_replica  res255_crf_pl_av_min_replica  \\\n",
       "0                      -3.120721                     -3.181179   \n",
       "\n",
       "   res255_crf_pl_std_min_replica  res255_crf_pl_med_min_replica  \\\n",
       "0                       1.043367                       -3.16964   \n",
       "\n",
       "   res255_lj_pl_av_min_replica  res255_lj_pl_std_min_replica  \\\n",
       "0                    -0.818094                      0.133469   \n",
       "\n",
       "   res255_lj_pl_med_min_replica  res255_ene_pl_av_min_replica  \\\n",
       "0                     -0.803507                     -3.999273   \n",
       "\n",
       "   res255_ene_pl_std_min_replica  res255_ene_pl_med_min_replica  \n",
       "0                       1.068535                       -3.96804  \n",
       "\n",
       "[1 rows x 27 columns]"
      ]
     },
     "execution_count": 31,
     "metadata": {},
     "output_type": "execute_result"
    }
   ],
   "source": [
    "pd.DataFrame([ene_res_lig_min])"
   ]
  },
  {
   "cell_type": "markdown",
   "metadata": {},
   "source": [
    "Append results to the output dictionary:"
   ]
  },
  {
   "cell_type": "code",
   "execution_count": 32,
   "metadata": {},
   "outputs": [],
   "source": [
    "Dict_Fingerprint.update(ene_res_lig_min)"
   ]
  },
  {
   "cell_type": "markdown",
   "metadata": {},
   "source": [
    "### Compute SASA, Rgyr, and RMSD"
   ]
  },
  {
   "cell_type": "markdown",
   "metadata": {},
   "source": [
    "Only the standard deviation of the RMSD is computed as mean and median depend on the reference structure."
   ]
  },
  {
   "cell_type": "code",
   "execution_count": 33,
   "metadata": {},
   "outputs": [],
   "source": [
    "list_traj_files = glob.glob('ex4_PL_MDFPs/*{}_*.xtc'.format(cmpd_name))"
   ]
  },
  {
   "cell_type": "code",
   "execution_count": 34,
   "metadata": {},
   "outputs": [],
   "source": [
    "# load solute trajectories. This is done as in the previous section but trajectory objects are stored in a list:\n",
    "Extractor_PLMDFP.gro2pdb(coord_file)\n",
    "pdb_file = os.path.splitext(coord_file)[0] + '.pdb'\n",
    "pdb = md.load(pdb_file)\n",
    "topology = pdb.topology\n",
    "solute_atoms = Extractor_PLMDFP.solute_solvent_split(topology, solute_residue_name='LIG')[0]\n",
    "solute_trj_objs = []\n",
    "for traj_file in list_traj_files:\n",
    "    solute_trj_objs.append(md.load(traj_file, top=pdb_file, atom_indices = solute_atoms))\n",
    "    \n",
    "# averages over all replicas\n",
    "rgyr = Extractor_PLMDFP.extract_rgyr_multi(solute_trj_objs, N_equil = N_equil_steps)\n",
    "sasa = Extractor_PLMDFP.extract_sasa_multi(solute_trj_objs, N_equil = N_equil_steps)\n",
    "rmsd = Extractor_PLMDFP.extract_rmsd_multi(solute_trj_objs, N_equil = N_equil_steps)\n",
    "Dict_Fingerprint.update({k: rgyr[k] for k in rgyr.keys() if 'all_replicas' in k}) \n",
    "Dict_Fingerprint.update({k: sasa[k] for k in sasa.keys() if 'all_replicas' in k}) \n",
    "Dict_Fingerprint.update({k: rmsd[k] for k in rmsd.keys() if 'all_replicas' in k}) \n",
    "###### averages over minimum replica\n",
    "solute_traj_min_file = glob.glob('ex4_PL_MDFPs/*{}_*{}.xtc'.format(cmpd_name, min_pose_number))[0] # this depends on the xtc file names.\n",
    "solute_traj_min = md.load(solute_traj_min_file, top=pdb_file, atom_indices = solute_atoms)\n",
    "rgyr_min = Extractor_PLMDFP.extract_rgyr(solute_traj_min, N_equil = N_equil_steps)\n",
    "sasa_min = Extractor_PLMDFP.extract_sasa(solute_traj_min, N_equil = N_equil_steps)\n",
    "rmsd_min = Extractor_PLMDFP.extract_rmsd(solute_traj_min, N_equil = N_equil_steps)\n",
    "Dict_Fingerprint.update({k+'_min_replica': v for k, v in rgyr_min.items()})\n",
    "Dict_Fingerprint.update({k+'_min_replica': v for k, v in sasa_min.items()})\n",
    "Dict_Fingerprint.update({k+'_min_replica': v for k, v in rmsd_min.items()})\n",
    "Fingerprint.append(Dict_Fingerprint)\n"
   ]
  },
  {
   "cell_type": "markdown",
   "metadata": {},
   "source": [
    "As described above in section 2, one can easily loop over multiple compounds. For each compound, one should store the output dictionary (Dict_Fingerprint) in the output list (Fingerprint)."
   ]
  },
  {
   "cell_type": "code",
   "execution_count": 35,
   "metadata": {},
   "outputs": [
    {
     "data": {
      "text/html": [
       "<div>\n",
       "<style scoped>\n",
       "    .dataframe tbody tr th:only-of-type {\n",
       "        vertical-align: middle;\n",
       "    }\n",
       "\n",
       "    .dataframe tbody tr th {\n",
       "        vertical-align: top;\n",
       "    }\n",
       "\n",
       "    .dataframe thead th {\n",
       "        text-align: right;\n",
       "    }\n",
       "</style>\n",
       "<table border=\"1\" class=\"dataframe\">\n",
       "  <thead>\n",
       "    <tr style=\"text-align: right;\">\n",
       "      <th></th>\n",
       "      <th>cmpd_name</th>\n",
       "      <th>intra_crf_pl_av_all_replicas</th>\n",
       "      <th>intra_crf_pl_std_all_replicas</th>\n",
       "      <th>intra_crf_pl_med_all_replicas</th>\n",
       "      <th>intra_lig_lj_pl_av_all_replicas</th>\n",
       "      <th>intra_lig_lj_pl_std_all_replicas</th>\n",
       "      <th>intra_lig_lj_pl_med_all_replicas</th>\n",
       "      <th>intra_ene_pl_av_all_replicas</th>\n",
       "      <th>intra_ene_pl_std_all_replicas</th>\n",
       "      <th>intra_ene_pl_med_all_replicas</th>\n",
       "      <th>...</th>\n",
       "      <th>sasa_pl_std_all_replicas</th>\n",
       "      <th>sasa_pl_med_all_replicas</th>\n",
       "      <th>rmsd_pl_std_all_replicas</th>\n",
       "      <th>rgyr_pl_av_min_replica</th>\n",
       "      <th>rgyr_pl_std_min_replica</th>\n",
       "      <th>rgyr_pl_med_min_replica</th>\n",
       "      <th>sasa_pl_av_min_replica</th>\n",
       "      <th>sasa_pl_std_min_replica</th>\n",
       "      <th>sasa_pl_med_min_replica</th>\n",
       "      <th>rmsd_pl_std_min_replica</th>\n",
       "    </tr>\n",
       "  </thead>\n",
       "  <tbody>\n",
       "    <tr>\n",
       "      <th>0</th>\n",
       "      <td>CHEMBL7568</td>\n",
       "      <td>-120.410567</td>\n",
       "      <td>19.75553</td>\n",
       "      <td>-122.479698</td>\n",
       "      <td>22.160995</td>\n",
       "      <td>9.388944</td>\n",
       "      <td>21.568603</td>\n",
       "      <td>-98.249572</td>\n",
       "      <td>21.223545</td>\n",
       "      <td>-100.651154</td>\n",
       "      <td>...</td>\n",
       "      <td>0.118452</td>\n",
       "      <td>7.50807</td>\n",
       "      <td>0.016541</td>\n",
       "      <td>0.406349</td>\n",
       "      <td>0.006309</td>\n",
       "      <td>0.405968</td>\n",
       "      <td>7.509152</td>\n",
       "      <td>0.112582</td>\n",
       "      <td>7.502111</td>\n",
       "      <td>0.01303</td>\n",
       "    </tr>\n",
       "  </tbody>\n",
       "</table>\n",
       "<p>1 rows × 141 columns</p>\n",
       "</div>"
      ],
      "text/plain": [
       "    cmpd_name  intra_crf_pl_av_all_replicas  intra_crf_pl_std_all_replicas  \\\n",
       "0  CHEMBL7568                   -120.410567                       19.75553   \n",
       "\n",
       "   intra_crf_pl_med_all_replicas  intra_lig_lj_pl_av_all_replicas  \\\n",
       "0                    -122.479698                        22.160995   \n",
       "\n",
       "   intra_lig_lj_pl_std_all_replicas  intra_lig_lj_pl_med_all_replicas  \\\n",
       "0                          9.388944                         21.568603   \n",
       "\n",
       "   intra_ene_pl_av_all_replicas  intra_ene_pl_std_all_replicas  \\\n",
       "0                    -98.249572                      21.223545   \n",
       "\n",
       "   intra_ene_pl_med_all_replicas  ...  sasa_pl_std_all_replicas  \\\n",
       "0                    -100.651154  ...                  0.118452   \n",
       "\n",
       "   sasa_pl_med_all_replicas  rmsd_pl_std_all_replicas  rgyr_pl_av_min_replica  \\\n",
       "0                   7.50807                  0.016541                0.406349   \n",
       "\n",
       "   rgyr_pl_std_min_replica  rgyr_pl_med_min_replica  sasa_pl_av_min_replica  \\\n",
       "0                 0.006309                 0.405968                7.509152   \n",
       "\n",
       "   sasa_pl_std_min_replica  sasa_pl_med_min_replica  rmsd_pl_std_min_replica  \n",
       "0                 0.112582                 7.502111                  0.01303  \n",
       "\n",
       "[1 rows x 141 columns]"
      ]
     },
     "execution_count": 35,
     "metadata": {},
     "output_type": "execute_result"
    }
   ],
   "source": [
    "df_MDFP = pd.DataFrame(Fingerprint)\n",
    "df_MDFP"
   ]
  },
  {
   "cell_type": "markdown",
   "metadata": {},
   "source": [
    "### MDFP built with features averaged over all replicas"
   ]
  },
  {
   "cell_type": "code",
   "execution_count": 36,
   "metadata": {},
   "outputs": [
    {
     "data": {
      "text/html": [
       "<div>\n",
       "<style scoped>\n",
       "    .dataframe tbody tr th:only-of-type {\n",
       "        vertical-align: middle;\n",
       "    }\n",
       "\n",
       "    .dataframe tbody tr th {\n",
       "        vertical-align: top;\n",
       "    }\n",
       "\n",
       "    .dataframe thead th {\n",
       "        text-align: right;\n",
       "    }\n",
       "</style>\n",
       "<table border=\"1\" class=\"dataframe\">\n",
       "  <thead>\n",
       "    <tr style=\"text-align: right;\">\n",
       "      <th></th>\n",
       "      <th>intra_crf_pl_av_all_replicas</th>\n",
       "      <th>intra_crf_pl_std_all_replicas</th>\n",
       "      <th>intra_crf_pl_med_all_replicas</th>\n",
       "      <th>intra_lig_lj_pl_av_all_replicas</th>\n",
       "      <th>intra_lig_lj_pl_std_all_replicas</th>\n",
       "      <th>intra_lig_lj_pl_med_all_replicas</th>\n",
       "      <th>intra_ene_pl_av_all_replicas</th>\n",
       "      <th>intra_ene_pl_std_all_replicas</th>\n",
       "      <th>intra_ene_pl_med_all_replicas</th>\n",
       "      <th>prot_lig_crf_pl_av_all_replicas</th>\n",
       "      <th>...</th>\n",
       "      <th>res255_ene_pl_av_all_replicas</th>\n",
       "      <th>res255_ene_pl_std_all_replicas</th>\n",
       "      <th>res255_ene_pl_med_all_replicas</th>\n",
       "      <th>rgyr_pl_av_all_replicas</th>\n",
       "      <th>rgyr_pl_std_all_replicas</th>\n",
       "      <th>rgyr_pl_med_all_replicas</th>\n",
       "      <th>sasa_pl_av_all_replicas</th>\n",
       "      <th>sasa_pl_std_all_replicas</th>\n",
       "      <th>sasa_pl_med_all_replicas</th>\n",
       "      <th>rmsd_pl_std_all_replicas</th>\n",
       "    </tr>\n",
       "  </thead>\n",
       "  <tbody>\n",
       "    <tr>\n",
       "      <th>0</th>\n",
       "      <td>-120.410567</td>\n",
       "      <td>19.75553</td>\n",
       "      <td>-122.479698</td>\n",
       "      <td>22.160995</td>\n",
       "      <td>9.388944</td>\n",
       "      <td>21.568603</td>\n",
       "      <td>-98.249572</td>\n",
       "      <td>21.223545</td>\n",
       "      <td>-100.651154</td>\n",
       "      <td>-122.094259</td>\n",
       "      <td>...</td>\n",
       "      <td>-0.661948</td>\n",
       "      <td>1.911654</td>\n",
       "      <td>0.027672</td>\n",
       "      <td>0.406085</td>\n",
       "      <td>0.0064</td>\n",
       "      <td>0.405756</td>\n",
       "      <td>7.513907</td>\n",
       "      <td>0.118452</td>\n",
       "      <td>7.50807</td>\n",
       "      <td>0.016541</td>\n",
       "    </tr>\n",
       "  </tbody>\n",
       "</table>\n",
       "<p>1 rows × 70 columns</p>\n",
       "</div>"
      ],
      "text/plain": [
       "   intra_crf_pl_av_all_replicas  intra_crf_pl_std_all_replicas  \\\n",
       "0                   -120.410567                       19.75553   \n",
       "\n",
       "   intra_crf_pl_med_all_replicas  intra_lig_lj_pl_av_all_replicas  \\\n",
       "0                    -122.479698                        22.160995   \n",
       "\n",
       "   intra_lig_lj_pl_std_all_replicas  intra_lig_lj_pl_med_all_replicas  \\\n",
       "0                          9.388944                         21.568603   \n",
       "\n",
       "   intra_ene_pl_av_all_replicas  intra_ene_pl_std_all_replicas  \\\n",
       "0                    -98.249572                      21.223545   \n",
       "\n",
       "   intra_ene_pl_med_all_replicas  prot_lig_crf_pl_av_all_replicas  ...  \\\n",
       "0                    -100.651154                      -122.094259  ...   \n",
       "\n",
       "   res255_ene_pl_av_all_replicas  res255_ene_pl_std_all_replicas  \\\n",
       "0                      -0.661948                        1.911654   \n",
       "\n",
       "   res255_ene_pl_med_all_replicas  rgyr_pl_av_all_replicas  \\\n",
       "0                        0.027672                 0.406085   \n",
       "\n",
       "   rgyr_pl_std_all_replicas  rgyr_pl_med_all_replicas  \\\n",
       "0                    0.0064                  0.405756   \n",
       "\n",
       "   sasa_pl_av_all_replicas  sasa_pl_std_all_replicas  \\\n",
       "0                 7.513907                  0.118452   \n",
       "\n",
       "   sasa_pl_med_all_replicas  rmsd_pl_std_all_replicas  \n",
       "0                   7.50807                  0.016541  \n",
       "\n",
       "[1 rows x 70 columns]"
      ]
     },
     "execution_count": 36,
     "metadata": {},
     "output_type": "execute_result"
    }
   ],
   "source": [
    "df_MDFP.loc[:, df_MDFP.columns.str.endswith('all_replicas')]"
   ]
  },
  {
   "cell_type": "markdown",
   "metadata": {},
   "source": [
    "### MDFP built with features averaged over the replica with the minimum total potential energy**"
   ]
  },
  {
   "cell_type": "code",
   "execution_count": 37,
   "metadata": {},
   "outputs": [
    {
     "data": {
      "text/html": [
       "<div>\n",
       "<style scoped>\n",
       "    .dataframe tbody tr th:only-of-type {\n",
       "        vertical-align: middle;\n",
       "    }\n",
       "\n",
       "    .dataframe tbody tr th {\n",
       "        vertical-align: top;\n",
       "    }\n",
       "\n",
       "    .dataframe thead th {\n",
       "        text-align: right;\n",
       "    }\n",
       "</style>\n",
       "<table border=\"1\" class=\"dataframe\">\n",
       "  <thead>\n",
       "    <tr style=\"text-align: right;\">\n",
       "      <th></th>\n",
       "      <th>intra_crf_pl_av_min_replica</th>\n",
       "      <th>intra_crf_pl_std_min_replica</th>\n",
       "      <th>intra_crf_pl_med_min_replica</th>\n",
       "      <th>intra_lig_lj_pl_av_min_replica</th>\n",
       "      <th>intra_lig_lj_pl_std_min_replica</th>\n",
       "      <th>intra_lig_lj_pl_med_min_replica</th>\n",
       "      <th>intra_ene_pl_av_min_replica</th>\n",
       "      <th>intra_ene_pl_std_min_replica</th>\n",
       "      <th>intra_ene_pl_med_min_replica</th>\n",
       "      <th>prot_lig_crf_pl_av_min_replica</th>\n",
       "      <th>...</th>\n",
       "      <th>res255_ene_pl_av_min_replica</th>\n",
       "      <th>res255_ene_pl_std_min_replica</th>\n",
       "      <th>res255_ene_pl_med_min_replica</th>\n",
       "      <th>rgyr_pl_av_min_replica</th>\n",
       "      <th>rgyr_pl_std_min_replica</th>\n",
       "      <th>rgyr_pl_med_min_replica</th>\n",
       "      <th>sasa_pl_av_min_replica</th>\n",
       "      <th>sasa_pl_std_min_replica</th>\n",
       "      <th>sasa_pl_med_min_replica</th>\n",
       "      <th>rmsd_pl_std_min_replica</th>\n",
       "    </tr>\n",
       "  </thead>\n",
       "  <tbody>\n",
       "    <tr>\n",
       "      <th>0</th>\n",
       "      <td>-108.811495</td>\n",
       "      <td>17.394809</td>\n",
       "      <td>-111.28405</td>\n",
       "      <td>22.328899</td>\n",
       "      <td>8.653008</td>\n",
       "      <td>21.722645</td>\n",
       "      <td>-86.482595</td>\n",
       "      <td>19.230652</td>\n",
       "      <td>-88.879646</td>\n",
       "      <td>-159.09552</td>\n",
       "      <td>...</td>\n",
       "      <td>-3.999273</td>\n",
       "      <td>1.068535</td>\n",
       "      <td>-3.96804</td>\n",
       "      <td>0.406349</td>\n",
       "      <td>0.006309</td>\n",
       "      <td>0.405968</td>\n",
       "      <td>7.509152</td>\n",
       "      <td>0.112582</td>\n",
       "      <td>7.502111</td>\n",
       "      <td>0.01303</td>\n",
       "    </tr>\n",
       "  </tbody>\n",
       "</table>\n",
       "<p>1 rows × 70 columns</p>\n",
       "</div>"
      ],
      "text/plain": [
       "   intra_crf_pl_av_min_replica  intra_crf_pl_std_min_replica  \\\n",
       "0                  -108.811495                     17.394809   \n",
       "\n",
       "   intra_crf_pl_med_min_replica  intra_lig_lj_pl_av_min_replica  \\\n",
       "0                    -111.28405                       22.328899   \n",
       "\n",
       "   intra_lig_lj_pl_std_min_replica  intra_lig_lj_pl_med_min_replica  \\\n",
       "0                         8.653008                        21.722645   \n",
       "\n",
       "   intra_ene_pl_av_min_replica  intra_ene_pl_std_min_replica  \\\n",
       "0                   -86.482595                     19.230652   \n",
       "\n",
       "   intra_ene_pl_med_min_replica  prot_lig_crf_pl_av_min_replica  ...  \\\n",
       "0                    -88.879646                      -159.09552  ...   \n",
       "\n",
       "   res255_ene_pl_av_min_replica  res255_ene_pl_std_min_replica  \\\n",
       "0                     -3.999273                       1.068535   \n",
       "\n",
       "   res255_ene_pl_med_min_replica  rgyr_pl_av_min_replica  \\\n",
       "0                       -3.96804                0.406349   \n",
       "\n",
       "   rgyr_pl_std_min_replica  rgyr_pl_med_min_replica  sasa_pl_av_min_replica  \\\n",
       "0                 0.006309                 0.405968                7.509152   \n",
       "\n",
       "   sasa_pl_std_min_replica  sasa_pl_med_min_replica  rmsd_pl_std_min_replica  \n",
       "0                 0.112582                 7.502111                  0.01303  \n",
       "\n",
       "[1 rows x 70 columns]"
      ]
     },
     "execution_count": 37,
     "metadata": {},
     "output_type": "execute_result"
    }
   ],
   "source": [
    "df_MDFP.loc[:, df_MDFP.columns.str.endswith('min_replica')]"
   ]
  },
  {
   "cell_type": "code",
   "execution_count": null,
   "metadata": {},
   "outputs": [],
   "source": []
  }
 ],
 "metadata": {
  "kernelspec": {
   "display_name": "Python 3",
   "language": "python",
   "name": "python3"
  },
  "language_info": {
   "codemirror_mode": {
    "name": "ipython",
    "version": 3
   },
   "file_extension": ".py",
   "mimetype": "text/x-python",
   "name": "python",
   "nbconvert_exporter": "python",
   "pygments_lexer": "ipython3",
   "version": "3.6.8"
  }
 },
 "nbformat": 4,
 "nbformat_minor": 2
}
